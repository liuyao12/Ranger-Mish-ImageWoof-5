{
  "nbformat": 4,
  "nbformat_minor": 0,
  "metadata": {
    "kernelspec": {
      "name": "python3",
      "display_name": "Python 3"
    },
    "colab": {
      "name": "Woof_128_twist.ipynb",
      "provenance": [],
      "collapsed_sections": [
        "LP3vVSWMBz1L",
        "6C-1pE45Bz1l",
        "pLmt0ISPBz2w"
      ],
      "include_colab_link": true
    },
    "accelerator": "GPU"
  },
  "cells": [
    {
      "cell_type": "markdown",
      "metadata": {
        "id": "view-in-github",
        "colab_type": "text"
      },
      "source": [
        "<a href=\"https://colab.research.google.com/github/liuyao12/Ranger-Mish-ImageWoof-5/blob/master/Woof_128_ConvTwist_mix.ipynb\" target=\"_parent\"><img src=\"https://colab.research.google.com/assets/colab-badge.svg\" alt=\"Open In Colab\"/></a>"
      ]
    },
    {
      "cell_type": "markdown",
      "metadata": {
        "id": "GM0cNcW2Bzz4",
        "colab_type": "text"
      },
      "source": [
        "# ResNet with a Twist\n",
        "\n",
        "> ConvTwist + Ranger + Mish + MaxBlurPool + restrick"
      ]
    },
    {
      "cell_type": "markdown",
      "metadata": {
        "id": "DrD1-te_Bzz7",
        "colab_type": "text"
      },
      "source": [
        "# setup and imports"
      ]
    },
    {
      "cell_type": "code",
      "metadata": {
        "id": "jtfoQmHrJonm",
        "colab_type": "code",
        "colab": {}
      },
      "source": [
        "# pip install git+https://github.com/kornia/kornia"
      ],
      "execution_count": 0,
      "outputs": []
    },
    {
      "cell_type": "code",
      "metadata": {
        "id": "UteAROmqBzz9",
        "colab_type": "code",
        "outputId": "1c57b969-0862-4822-d511-61e36300c44f",
        "colab": {
          "base_uri": "https://localhost:8080/",
          "height": 309
        }
      },
      "source": [
        "pip install git+https://github.com/ayasyrev/model_constructor"
      ],
      "execution_count": 1,
      "outputs": [
        {
          "output_type": "stream",
          "text": [
            "Collecting git+https://github.com/ayasyrev/model_constructor\n",
            "  Cloning https://github.com/ayasyrev/model_constructor to /tmp/pip-req-build-sf65oojg\n",
            "  Running command git clone -q https://github.com/ayasyrev/model_constructor /tmp/pip-req-build-sf65oojg\n",
            "Collecting fastcore\n",
            "  Downloading https://files.pythonhosted.org/packages/dd/f3/8cd2e1ed981b0ddbe4d56e5d44f52c9e56d27ac7d53c30abb534d10c82c2/fastcore-0.1.17-py3-none-any.whl\n",
            "Requirement already satisfied: torch in /usr/local/lib/python3.6/dist-packages (from model-constructor==0.1.1) (1.5.0+cu101)\n",
            "Requirement already satisfied: dataclasses>='0.7'; python_version < \"3.7\" in /usr/local/lib/python3.6/dist-packages (from fastcore->model-constructor==0.1.1) (0.7)\n",
            "Requirement already satisfied: numpy in /usr/local/lib/python3.6/dist-packages (from fastcore->model-constructor==0.1.1) (1.18.4)\n",
            "Requirement already satisfied: future in /usr/local/lib/python3.6/dist-packages (from torch->model-constructor==0.1.1) (0.16.0)\n",
            "Building wheels for collected packages: model-constructor\n",
            "  Building wheel for model-constructor (setup.py) ... \u001b[?25l\u001b[?25hdone\n",
            "  Created wheel for model-constructor: filename=model_constructor-0.1.1-cp36-none-any.whl size=23583 sha256=e834863e6cb4684868ed6c864d6528944ec4821cdcaafe1134ad355ec29e9f9f\n",
            "  Stored in directory: /tmp/pip-ephem-wheel-cache-8yjwflqy/wheels/5b/92/65/8093a307d5802f41f4a8776b40bc12b558e75a2a906ae8b683\n",
            "Successfully built model-constructor\n",
            "Installing collected packages: fastcore, model-constructor\n",
            "Successfully installed fastcore-0.1.17 model-constructor-0.1.1\n"
          ],
          "name": "stdout"
        }
      ]
    },
    {
      "cell_type": "code",
      "metadata": {
        "colab_type": "code",
        "outputId": "80e77446-0a71-4741-f9a7-b27d8455c23e",
        "id": "XnsPVNrkTfV3",
        "colab": {
          "base_uri": "https://localhost:8080/",
          "height": 1000
        }
      },
      "source": [
        "pip install git+https://github.com/ayasyrev/imagenette_experiments"
      ],
      "execution_count": 2,
      "outputs": [
        {
          "output_type": "stream",
          "text": [
            "Collecting git+https://github.com/ayasyrev/imagenette_experiments\n",
            "  Cloning https://github.com/ayasyrev/imagenette_experiments to /tmp/pip-req-build-h9acfiae\n",
            "  Running command git clone -q https://github.com/ayasyrev/imagenette_experiments /tmp/pip-req-build-h9acfiae\n",
            "Requirement already satisfied: fastai in /usr/local/lib/python3.6/dist-packages (from imagenette-experiments==0.0.1) (1.0.61)\n",
            "Collecting kornia\n",
            "\u001b[?25l  Downloading https://files.pythonhosted.org/packages/c2/60/f0c174c4a2a40b10b04b37c43f5afee3701cc145b48441a2dc5cf9286c3c/kornia-0.3.1-py2.py3-none-any.whl (158kB)\n",
            "\u001b[K     |████████████████████████████████| 163kB 3.3MB/s \n",
            "\u001b[?25hRequirement already satisfied: model-constructor in /usr/local/lib/python3.6/dist-packages (from imagenette-experiments==0.0.1) (0.1.1)\n",
            "Requirement already satisfied: matplotlib in /usr/local/lib/python3.6/dist-packages (from fastai->imagenette-experiments==0.0.1) (3.2.1)\n",
            "Requirement already satisfied: numpy>=1.15 in /usr/local/lib/python3.6/dist-packages (from fastai->imagenette-experiments==0.0.1) (1.18.4)\n",
            "Requirement already satisfied: requests in /usr/local/lib/python3.6/dist-packages (from fastai->imagenette-experiments==0.0.1) (2.23.0)\n",
            "Requirement already satisfied: fastprogress>=0.2.1 in /usr/local/lib/python3.6/dist-packages (from fastai->imagenette-experiments==0.0.1) (0.2.3)\n",
            "Requirement already satisfied: nvidia-ml-py3 in /usr/local/lib/python3.6/dist-packages (from fastai->imagenette-experiments==0.0.1) (7.352.0)\n",
            "Requirement already satisfied: Pillow in /usr/local/lib/python3.6/dist-packages (from fastai->imagenette-experiments==0.0.1) (7.0.0)\n",
            "Requirement already satisfied: pyyaml in /usr/local/lib/python3.6/dist-packages (from fastai->imagenette-experiments==0.0.1) (3.13)\n",
            "Requirement already satisfied: beautifulsoup4 in /usr/local/lib/python3.6/dist-packages (from fastai->imagenette-experiments==0.0.1) (4.6.3)\n",
            "Requirement already satisfied: dataclasses; python_version < \"3.7\" in /usr/local/lib/python3.6/dist-packages (from fastai->imagenette-experiments==0.0.1) (0.7)\n",
            "Requirement already satisfied: scipy in /usr/local/lib/python3.6/dist-packages (from fastai->imagenette-experiments==0.0.1) (1.4.1)\n",
            "Requirement already satisfied: spacy>=2.0.18; python_version < \"3.8\" in /usr/local/lib/python3.6/dist-packages (from fastai->imagenette-experiments==0.0.1) (2.2.4)\n",
            "Requirement already satisfied: numexpr in /usr/local/lib/python3.6/dist-packages (from fastai->imagenette-experiments==0.0.1) (2.7.1)\n",
            "Requirement already satisfied: torchvision in /usr/local/lib/python3.6/dist-packages (from fastai->imagenette-experiments==0.0.1) (0.6.0+cu101)\n",
            "Requirement already satisfied: pandas in /usr/local/lib/python3.6/dist-packages (from fastai->imagenette-experiments==0.0.1) (1.0.3)\n",
            "Requirement already satisfied: bottleneck in /usr/local/lib/python3.6/dist-packages (from fastai->imagenette-experiments==0.0.1) (1.3.2)\n",
            "Requirement already satisfied: packaging in /usr/local/lib/python3.6/dist-packages (from fastai->imagenette-experiments==0.0.1) (20.4)\n",
            "Requirement already satisfied: torch>=1.0.0 in /usr/local/lib/python3.6/dist-packages (from fastai->imagenette-experiments==0.0.1) (1.5.0+cu101)\n",
            "Requirement already satisfied: fastcore in /usr/local/lib/python3.6/dist-packages (from model-constructor->imagenette-experiments==0.0.1) (0.1.17)\n",
            "Requirement already satisfied: kiwisolver>=1.0.1 in /usr/local/lib/python3.6/dist-packages (from matplotlib->fastai->imagenette-experiments==0.0.1) (1.2.0)\n",
            "Requirement already satisfied: cycler>=0.10 in /usr/local/lib/python3.6/dist-packages (from matplotlib->fastai->imagenette-experiments==0.0.1) (0.10.0)\n",
            "Requirement already satisfied: pyparsing!=2.0.4,!=2.1.2,!=2.1.6,>=2.0.1 in /usr/local/lib/python3.6/dist-packages (from matplotlib->fastai->imagenette-experiments==0.0.1) (2.4.7)\n",
            "Requirement already satisfied: python-dateutil>=2.1 in /usr/local/lib/python3.6/dist-packages (from matplotlib->fastai->imagenette-experiments==0.0.1) (2.8.1)\n",
            "Requirement already satisfied: idna<3,>=2.5 in /usr/local/lib/python3.6/dist-packages (from requests->fastai->imagenette-experiments==0.0.1) (2.9)\n",
            "Requirement already satisfied: certifi>=2017.4.17 in /usr/local/lib/python3.6/dist-packages (from requests->fastai->imagenette-experiments==0.0.1) (2020.4.5.1)\n",
            "Requirement already satisfied: chardet<4,>=3.0.2 in /usr/local/lib/python3.6/dist-packages (from requests->fastai->imagenette-experiments==0.0.1) (3.0.4)\n",
            "Requirement already satisfied: urllib3!=1.25.0,!=1.25.1,<1.26,>=1.21.1 in /usr/local/lib/python3.6/dist-packages (from requests->fastai->imagenette-experiments==0.0.1) (1.24.3)\n",
            "Requirement already satisfied: catalogue<1.1.0,>=0.0.7 in /usr/local/lib/python3.6/dist-packages (from spacy>=2.0.18; python_version < \"3.8\"->fastai->imagenette-experiments==0.0.1) (1.0.0)\n",
            "Requirement already satisfied: srsly<1.1.0,>=1.0.2 in /usr/local/lib/python3.6/dist-packages (from spacy>=2.0.18; python_version < \"3.8\"->fastai->imagenette-experiments==0.0.1) (1.0.2)\n",
            "Requirement already satisfied: plac<1.2.0,>=0.9.6 in /usr/local/lib/python3.6/dist-packages (from spacy>=2.0.18; python_version < \"3.8\"->fastai->imagenette-experiments==0.0.1) (1.1.3)\n",
            "Requirement already satisfied: cymem<2.1.0,>=2.0.2 in /usr/local/lib/python3.6/dist-packages (from spacy>=2.0.18; python_version < \"3.8\"->fastai->imagenette-experiments==0.0.1) (2.0.3)\n",
            "Requirement already satisfied: murmurhash<1.1.0,>=0.28.0 in /usr/local/lib/python3.6/dist-packages (from spacy>=2.0.18; python_version < \"3.8\"->fastai->imagenette-experiments==0.0.1) (1.0.2)\n",
            "Requirement already satisfied: blis<0.5.0,>=0.4.0 in /usr/local/lib/python3.6/dist-packages (from spacy>=2.0.18; python_version < \"3.8\"->fastai->imagenette-experiments==0.0.1) (0.4.1)\n",
            "Requirement already satisfied: thinc==7.4.0 in /usr/local/lib/python3.6/dist-packages (from spacy>=2.0.18; python_version < \"3.8\"->fastai->imagenette-experiments==0.0.1) (7.4.0)\n",
            "Requirement already satisfied: tqdm<5.0.0,>=4.38.0 in /usr/local/lib/python3.6/dist-packages (from spacy>=2.0.18; python_version < \"3.8\"->fastai->imagenette-experiments==0.0.1) (4.41.1)\n",
            "Requirement already satisfied: setuptools in /usr/local/lib/python3.6/dist-packages (from spacy>=2.0.18; python_version < \"3.8\"->fastai->imagenette-experiments==0.0.1) (47.1.1)\n",
            "Requirement already satisfied: wasabi<1.1.0,>=0.4.0 in /usr/local/lib/python3.6/dist-packages (from spacy>=2.0.18; python_version < \"3.8\"->fastai->imagenette-experiments==0.0.1) (0.6.0)\n",
            "Requirement already satisfied: preshed<3.1.0,>=3.0.2 in /usr/local/lib/python3.6/dist-packages (from spacy>=2.0.18; python_version < \"3.8\"->fastai->imagenette-experiments==0.0.1) (3.0.2)\n",
            "Requirement already satisfied: pytz>=2017.2 in /usr/local/lib/python3.6/dist-packages (from pandas->fastai->imagenette-experiments==0.0.1) (2018.9)\n",
            "Requirement already satisfied: six in /usr/local/lib/python3.6/dist-packages (from packaging->fastai->imagenette-experiments==0.0.1) (1.12.0)\n",
            "Requirement already satisfied: future in /usr/local/lib/python3.6/dist-packages (from torch>=1.0.0->fastai->imagenette-experiments==0.0.1) (0.16.0)\n",
            "Requirement already satisfied: importlib-metadata>=0.20; python_version < \"3.8\" in /usr/local/lib/python3.6/dist-packages (from catalogue<1.1.0,>=0.0.7->spacy>=2.0.18; python_version < \"3.8\"->fastai->imagenette-experiments==0.0.1) (1.6.0)\n",
            "Requirement already satisfied: zipp>=0.5 in /usr/local/lib/python3.6/dist-packages (from importlib-metadata>=0.20; python_version < \"3.8\"->catalogue<1.1.0,>=0.0.7->spacy>=2.0.18; python_version < \"3.8\"->fastai->imagenette-experiments==0.0.1) (3.1.0)\n",
            "Building wheels for collected packages: imagenette-experiments\n",
            "  Building wheel for imagenette-experiments (setup.py) ... \u001b[?25l\u001b[?25hdone\n",
            "  Created wheel for imagenette-experiments: filename=imagenette_experiments-0.0.1-cp36-none-any.whl size=15332 sha256=8760df63268084188e64474c59c37d733201933a23c4bb8679247fe298e89aba\n",
            "  Stored in directory: /tmp/pip-ephem-wheel-cache-om_ycoa9/wheels/af/99/98/2212941f45a18bf6d191f56c39e3569138414560c76defc0d4\n",
            "Successfully built imagenette-experiments\n",
            "Installing collected packages: kornia, imagenette-experiments\n",
            "Successfully installed imagenette-experiments-0.0.1 kornia-0.3.1\n"
          ],
          "name": "stdout"
        }
      ]
    },
    {
      "cell_type": "code",
      "metadata": {
        "id": "K-OCjxGCBz0J",
        "colab_type": "code",
        "colab": {}
      },
      "source": [
        "from imagenette_experiments.train_utils import *"
      ],
      "execution_count": 0,
      "outputs": []
    },
    {
      "cell_type": "code",
      "metadata": {
        "id": "vPNF3XKWBz0O",
        "colab_type": "code",
        "colab": {}
      },
      "source": [
        "from kornia.contrib import MaxBlurPool2d"
      ],
      "execution_count": 0,
      "outputs": []
    },
    {
      "cell_type": "code",
      "metadata": {
        "id": "xPGwrk6TBz0U",
        "colab_type": "code",
        "colab": {}
      },
      "source": [
        "from fastai.basic_train import *\n",
        "from fastai.vision import *\n",
        "# from fastai.script import *\n",
        "from model_constructor.net import Net, act_fn\n",
        "from model_constructor.layers import SimpleSelfAttention, ConvLayer"
      ],
      "execution_count": 0,
      "outputs": []
    },
    {
      "cell_type": "markdown",
      "metadata": {
        "id": "-iLuG-qpBz0c",
        "colab_type": "text"
      },
      "source": [
        "# Twist"
      ]
    },
    {
      "cell_type": "code",
      "metadata": {
        "colab_type": "code",
        "id": "uDQr2mVcTZzB",
        "colab": {}
      },
      "source": [
        "class ConvTwist(nn.Module):  # replacing 3x3 Conv2d with in_channels=out_channels\n",
        "    def __init__(self, n):\n",
        "        super(ConvTwist, self).__init__()\n",
        "        self.twist = True # and n>=128\n",
        "        self.expansion = 1 # n//4\n",
        "        N = n*self.expansion\n",
        "        self.conv = nn.Conv2d(N, N, kernel_size=3, padding=1, bias=False, groups=N)\n",
        "        if self.twist:\n",
        "            std = self.conv.weight.std().item()\n",
        "            self.coeff_Ax = nn.Parameter(torch.empty((N, 1)).normal_(0, std), requires_grad=True)\n",
        "            self.coeff_Ay = nn.Parameter(torch.empty((N, 1)).normal_(0, std), requires_grad=True)\n",
        "            print(self.conv.weight.size(), self.coeff_Ax.size())\n",
        "\n",
        "    def DD(self, order=3):\n",
        "        I = torch.Tensor([[0,0,0],[0,1,0],[0,0,0]]).view(1,1,3,3)\n",
        "        D_x = torch.Tensor([[-1,0,1],[-2,0,2],[-1,0,1]]).view(1,1,3,3) / 10\n",
        "        D_y = torch.Tensor([[1,2,1],[0,0,0],[-1,-2,-1]]).view(1,1,3,3) / 10\n",
        "        def convolution(K1, K2):\n",
        "            padding = K2.size()[2]//2+1\n",
        "            return F.conv2d(K1, K2.flip(2).flip(3), padding=padding)\n",
        "        D_xx = convolution(D_x, D_x).view(1,1,5,5)\n",
        "        D_yy = convolution(D_y, D_y).view(1,1,5,5)\n",
        "        D_xy = convolution(D_x, D_y).view(1,1,5,5)\n",
        "        return {'x': D_x, 'y': D_y, 'xx': D_xx, 'yy': D_yy, 'xy': D_xy}\n",
        "\n",
        "    def kernel(self, coeff_x, coeff_y):\n",
        "        D_x = torch.Tensor([[-1,0,1],[-2,0,2],[-1,0,1]]).to(coeff_x.device)\n",
        "        D_y = torch.Tensor([[1,2,1],[0,0,0],[-1,-2,-1]]).to(coeff_x.device)\n",
        "        return coeff_x[:,:,None,None] * D_x + coeff_y[:,:,None,None] * D_y\n",
        "\n",
        "    def _conv(self, x, kernel=None):\n",
        "        if kernel is None:\n",
        "            kernel = self.conv.weight\n",
        "        groups = kernel.size()[0]//kernel.size()[1]\n",
        "        return F.conv2d(x, kernel, padding=1, groups=groups)\n",
        "\n",
        "    def symmetrize(self, conv_wt):\n",
        "        conv_wt.data = (conv_wt-conv_wt.flip(2).flip(3))/2\n",
        "        # if self.same:\n",
        "        #     n = conv_wt.size()[1]\n",
        "        #     for i in range(self.groups):\n",
        "        #         conv_wt.data[n*i:n*(i+1)] = (conv_wt[n*i:n*(i+1)] + torch.transpose(conv_wt[n*i:n*(i+1)],0,1)) / 2\n",
        "\n",
        "    def forward(self, x):\n",
        "        N,C,H,W = x.size()\n",
        "        CC = C*self.expansion\n",
        "        if self.expansion>1:\n",
        "            x = torch.cat([x]*self.expansion, dim=1)\n",
        "        x1 = x\n",
        "        if self.twist:\n",
        "            XX = torch.from_numpy(np.indices((1,1,H,W))[3]*2/W-1).type(x.dtype).to(x.device)\n",
        "            YY = torch.from_numpy(np.indices((1,1,H,W))[2]*2/H-1).type(x.dtype).to(x.device)\n",
        "            mask = F.relu(x1)+0.01\n",
        "            mass = mask.sum((2,3))\n",
        "            Xbar = (XX*mask).sum((2,3))/mass\n",
        "            Ybar = (YY*mask).sum((2,3))/mass\n",
        "            XX = XX.expand((N,CC,H,W)) - Xbar[:,:,None,None]\n",
        "            YY = YY.expand((N,CC,H,W)) - Ybar[:,:,None,None]\n",
        "            kernel_x = self.kernel(self.coeff_Ax, self.coeff_Ay)\n",
        "            kernel_y = kernel_x.transpose(2,3).flip(3)\n",
        "        for _ in range(3):\n",
        "            if self.twist:\n",
        "                x1 = x1 + XX * self._conv(x1, kernel_x) + YY * self._conv(x1, kernel_y)\n",
        "            else:\n",
        "                x1 = x1 + self._conv(x1)\n",
        "        x1 = x1 - x\n",
        "        x2 = x1[:,:C]\n",
        "        for i in range(self.expansion):\n",
        "            x3 = x1[:,C*i:C*(i+1)]\n",
        "            x3 = x3.view(N,C//4,4,H,W)\n",
        "            # x3 = x3.permute(0,2,1,3,4).reshape(N,C,H,W)\n",
        "            x3 = torch.cat([x3[:,:,1:], x3[:,:,:1]], dim=2)\n",
        "            x3 = x3.view(N,4,C//4,H,W)\n",
        "            x3 = torch.cat([x3[:,1:], x3[:,:1]], dim=1).view(N,C,H,W)\n",
        "            x2 = x2+x3\n",
        "        return x3"
      ],
      "execution_count": 0,
      "outputs": []
    },
    {
      "cell_type": "code",
      "metadata": {
        "id": "UGeCQ_N2bACA",
        "colab_type": "code",
        "outputId": "f66254bb-bc2e-4ba0-980b-2cf5c0ded042",
        "colab": {
          "base_uri": "https://localhost:8080/",
          "height": 988
        }
      },
      "source": [
        "%matplotlib inline\n",
        "import matplotlib.pyplot as plt\n",
        "fig, axs = plt.subplots(2,2,figsize=(16,16))\n",
        "axs = axs.ravel()\n",
        "i=0\n",
        "for n in [64,128,256,512]:\n",
        "    model = ConvTwist(n)\n",
        "    mask = model.make_mask(n).squeeze()\n",
        "    axs[i].imshow(mask)\n",
        "    i+=1"
      ],
      "execution_count": 0,
      "outputs": [
        {
          "output_type": "stream",
          "text": [
            "torch.Size([64, 64, 3, 3])\n",
            "torch.Size([128, 128, 3, 3])\n",
            "torch.Size([256, 256, 3, 3])\n",
            "torch.Size([512, 512, 3, 3])\n"
          ],
          "name": "stdout"
        },
        {
          "output_type": "display_data",
          "data": {
            "image/png": "[encoded data removed]",
            "text/plain": [
              "<Figure size 1152x1152 with 4 Axes>"
            ]
          },
          "metadata": {
            "tags": [],
            "needs_background": "light"
          }
        }
      ]
    },
    {
      "cell_type": "markdown",
      "metadata": {
        "id": "U63Mcb1lBz0p",
        "colab_type": "text"
      },
      "source": [
        "# ResBlock"
      ]
    },
    {
      "cell_type": "code",
      "metadata": {
        "id": "kY7y9c99Bz0q",
        "colab_type": "code",
        "colab": {}
      },
      "source": [
        "class NewLayer(nn.Sequential):\n",
        "    \"\"\"Basic conv layers block\"\"\"\n",
        "    def __init__(self, ni, nf, ks=3, stride=1,\n",
        "            act=True,  act_fn=nn.ReLU(inplace=True),\n",
        "            bn_layer=True, bn_1st=True, zero_bn=False,\n",
        "            padding=None, bias=False, groups=1, **kwargs):\n",
        "\n",
        "        if padding==None: padding = ks//2\n",
        "        if ni==nf and ks==3:  layers = [('ConvTwist', ConvTwist(ni))]\n",
        "        else: layers = [('Conv{}x{}'.format(ks,ks), \n",
        "                  nn.Conv2d(ni, nf, ks, stride=stride, padding=padding, bias=bias, groups=groups))]\n",
        "\n",
        "        act_bn = [('act_fn', act_fn)] if act else []\n",
        "        if bn_layer:\n",
        "            bn = nn.BatchNorm2d(nf)\n",
        "            nn.init.constant_(bn.weight, 0. if zero_bn else 1.)\n",
        "            act_bn += [('bn', bn)]\n",
        "        if bn_1st: act_bn.reverse()\n",
        "        layers += act_bn\n",
        "        super().__init__(OrderedDict(layers))"
      ],
      "execution_count": 0,
      "outputs": []
    },
    {
      "cell_type": "code",
      "metadata": {
        "id": "nVLFz9nhBz0x",
        "colab_type": "code",
        "colab": {}
      },
      "source": [
        "class NewResBlock(Module):\n",
        "    def __init__(self, expansion, ni, nh, stride=1,\n",
        "                 conv_layer=ConvLayer, act_fn=act_fn, bn_1st=True,\n",
        "                 pool=nn.AvgPool2d(2, ceil_mode=True), sa=False, sym=False, zero_bn=True):\n",
        "        nf,ni = nh*expansion,ni*expansion\n",
        "        conv_layer = NewLayer\n",
        "        self.reduce = noop if stride==1 else pool\n",
        "        layers  = [(f\"conv_0\", conv_layer(ni, nh, 3, act_fn=act_fn, bn_1st=bn_1st)),\n",
        "                   (f\"conv_1\", conv_layer(nh, nf, 3, zero_bn=zero_bn, act=False, bn_1st=bn_1st))\n",
        "        ] if expansion == 1 else [\n",
        "                   (f\"conv_0\", conv_layer(ni, nh, 1, act_fn=act_fn, bn_1st=bn_1st)),\n",
        "                   (f\"conv_1\", conv_layer(nh, nh, 3, act_fn=act_fn, bn_1st=bn_1st)),\n",
        "                   (f\"conv_2\", conv_layer(nh, nf, 1, zero_bn=zero_bn, act=False, bn_1st=bn_1st))\n",
        "        ]\n",
        "        if sa: layers.append(('sa', SimpleSelfAttention(nf,ks=1,sym=sym)))\n",
        "        self.convs = nn.Sequential(OrderedDict(layers))\n",
        "        self.idconv = noop if ni==nf else conv_layer(ni, nf, 1, act=False, bn_1st=bn_1st)\n",
        "        self.merge = act_fn\n",
        "\n",
        "    def forward(self, x):\n",
        "        o = self.reduce(x)\n",
        "        return self.merge(self.convs(o) + self.idconv(o))"
      ],
      "execution_count": 0,
      "outputs": []
    },
    {
      "cell_type": "code",
      "metadata": {
        "id": "7taIm18biiX3",
        "colab_type": "code",
        "outputId": "ac30dd0d-c335-448f-b45b-328969cbba85",
        "colab": {
          "base_uri": "https://localhost:8080/",
          "height": 85
        }
      },
      "source": [
        "A = torch.arange(15).view(3,5)\n",
        "print(A)\n",
        "print(A.sum(1))"
      ],
      "execution_count": 0,
      "outputs": [
        {
          "output_type": "stream",
          "text": [
            "tensor([[ 0,  1,  2,  3,  4],\n",
            "        [ 5,  6,  7,  8,  9],\n",
            "        [10, 11, 12, 13, 14]])\n",
            "tensor([10, 35, 60])\n"
          ],
          "name": "stdout"
        }
      ]
    },
    {
      "cell_type": "markdown",
      "metadata": {
        "id": "XroIp4GcBz07",
        "colab_type": "text"
      },
      "source": [
        "# Model Constructor"
      ]
    },
    {
      "cell_type": "code",
      "metadata": {
        "id": "ZTrZVV81Bz1G",
        "colab_type": "code",
        "colab": {}
      },
      "source": [
        "model = Net(c_out=10, layers=[4,6,8,12], expansion=4)\n",
        "model.block = NewResBlock\n",
        "# model.conv_layer = NewLayer # for the stem\n",
        "pool = MaxBlurPool2d(3, True)\n",
        "model.pool = pool\n",
        "model.stem_pool = pool\n",
        "model.stem_sizes = [3,32,64,64]\n",
        "model.act_fn = Mish()\n",
        "model.sa = True"
      ],
      "execution_count": 0,
      "outputs": []
    },
    {
      "cell_type": "markdown",
      "metadata": {
        "id": "8g2J_rBABz13",
        "colab_type": "text"
      },
      "source": [
        "# Runs and results\n",
        "\n"
      ]
    },
    {
      "cell_type": "code",
      "metadata": {
        "id": "-QXtp7Jryx_9",
        "colab_type": "code",
        "outputId": "364fe3fa-0a4c-4702-d58a-0b6ee78d82ee",
        "colab": {
          "base_uri": "https://localhost:8080/",
          "height": 1000
        }
      },
      "source": [
        "res = []\n",
        "for e in [5]*3:\n",
        "    mixup=0 if e<=20 else 0.2\n",
        "    learn = get_learn(model=model, size=192, bs=32, mixup=mixup)\n",
        "    learn.fit_fc(e, lr=4e-3, moms=(0.95,0.95), start_pct=0.72)\n",
        "    res += [learn.recorder.metrics[-1][0].item()]\n",
        "print([round(x, 6) for x in res], sum(res)/len(res))"
      ],
      "execution_count": 28,
      "outputs": [
        {
          "output_type": "stream",
          "text": [
            "data path   /root/.fastai/data/imagewoof2\n"
          ],
          "name": "stdout"
        },
        {
          "output_type": "stream",
          "text": [
            "/usr/local/lib/python3.6/dist-packages/torch/nn/functional.py:2854: UserWarning: The default behavior for interpolate/upsample with float scale_factor will change in 1.6.0 to align with other frameworks/libraries, and use scale_factor directly, instead of relying on the computed output size. If you wish to keep the old behavior, please set recompute_scale_factor=True. See the documentation of nn.Upsample for details. \n",
            "  warnings.warn(\"The default behavior for interpolate/upsample with float scale_factor will change \"\n",
            "/usr/local/lib/python3.6/dist-packages/torch/nn/functional.py:2854: UserWarning: The default behavior for interpolate/upsample with float scale_factor will change in 1.6.0 to align with other frameworks/libraries, and use scale_factor directly, instead of relying on the computed output size. If you wish to keep the old behavior, please set recompute_scale_factor=True. See the documentation of nn.Upsample for details. \n",
            "  warnings.warn(\"The default behavior for interpolate/upsample with float scale_factor will change \"\n",
            "/usr/local/lib/python3.6/dist-packages/torch/nn/functional.py:2854: UserWarning: The default behavior for interpolate/upsample with float scale_factor will change in 1.6.0 to align with other frameworks/libraries, and use scale_factor directly, instead of relying on the computed output size. If you wish to keep the old behavior, please set recompute_scale_factor=True. See the documentation of nn.Upsample for details. \n",
            "  warnings.warn(\"The default behavior for interpolate/upsample with float scale_factor will change \"\n",
            "/usr/local/lib/python3.6/dist-packages/torch/nn/functional.py:2854: UserWarning: The default behavior for interpolate/upsample with float scale_factor will change in 1.6.0 to align with other frameworks/libraries, and use scale_factor directly, instead of relying on the computed output size. If you wish to keep the old behavior, please set recompute_scale_factor=True. See the documentation of nn.Upsample for details. \n",
            "  warnings.warn(\"The default behavior for interpolate/upsample with float scale_factor will change \"\n",
            "/usr/local/lib/python3.6/dist-packages/torch/nn/functional.py:2854: UserWarning: The default behavior for interpolate/upsample with float scale_factor will change in 1.6.0 to align with other frameworks/libraries, and use scale_factor directly, instead of relying on the computed output size. If you wish to keep the old behavior, please set recompute_scale_factor=True. See the documentation of nn.Upsample for details. \n",
            "  warnings.warn(\"The default behavior for interpolate/upsample with float scale_factor will change \"\n",
            "/usr/local/lib/python3.6/dist-packages/torch/nn/functional.py:2854: UserWarning: The default behavior for interpolate/upsample with float scale_factor will change in 1.6.0 to align with other frameworks/libraries, and use scale_factor directly, instead of relying on the computed output size. If you wish to keep the old behavior, please set recompute_scale_factor=True. See the documentation of nn.Upsample for details. \n",
            "  warnings.warn(\"The default behavior for interpolate/upsample with float scale_factor will change \"\n",
            "/usr/local/lib/python3.6/dist-packages/torch/nn/functional.py:2854: UserWarning: The default behavior for interpolate/upsample with float scale_factor will change in 1.6.0 to align with other frameworks/libraries, and use scale_factor directly, instead of relying on the computed output size. If you wish to keep the old behavior, please set recompute_scale_factor=True. See the documentation of nn.Upsample for details. \n",
            "  warnings.warn(\"The default behavior for interpolate/upsample with float scale_factor will change \"\n",
            "/usr/local/lib/python3.6/dist-packages/torch/nn/functional.py:2854: UserWarning: The default behavior for interpolate/upsample with float scale_factor will change in 1.6.0 to align with other frameworks/libraries, and use scale_factor directly, instead of relying on the computed output size. If you wish to keep the old behavior, please set recompute_scale_factor=True. See the documentation of nn.Upsample for details. \n",
            "  warnings.warn(\"The default behavior for interpolate/upsample with float scale_factor will change \"\n",
            "/usr/local/lib/python3.6/dist-packages/torch/nn/functional.py:2854: UserWarning: The default behavior for interpolate/upsample with float scale_factor will change in 1.6.0 to align with other frameworks/libraries, and use scale_factor directly, instead of relying on the computed output size. If you wish to keep the old behavior, please set recompute_scale_factor=True. See the documentation of nn.Upsample for details. \n",
            "  warnings.warn(\"The default behavior for interpolate/upsample with float scale_factor will change \"\n"
          ],
          "name": "stderr"
        },
        {
          "output_type": "stream",
          "text": [
            "torch.Size([64, 1, 3, 3]) torch.Size([64, 1])\n",
            "torch.Size([64, 1, 3, 3]) torch.Size([64, 1])\n",
            "torch.Size([64, 1, 3, 3]) torch.Size([64, 1])\n",
            "torch.Size([64, 1, 3, 3]) torch.Size([64, 1])\n",
            "torch.Size([128, 1, 3, 3]) torch.Size([128, 1])\n",
            "torch.Size([128, 1, 3, 3]) torch.Size([128, 1])\n",
            "torch.Size([128, 1, 3, 3]) torch.Size([128, 1])\n",
            "torch.Size([128, 1, 3, 3]) torch.Size([128, 1])\n",
            "torch.Size([128, 1, 3, 3]) torch.Size([128, 1])\n",
            "torch.Size([128, 1, 3, 3]) torch.Size([128, 1])\n",
            "torch.Size([256, 1, 3, 3]) torch.Size([256, 1])\n",
            "torch.Size([256, 1, 3, 3]) torch.Size([256, 1])\n",
            "torch.Size([256, 1, 3, 3]) torch.Size([256, 1])\n",
            "torch.Size([256, 1, 3, 3]) torch.Size([256, 1])\n",
            "torch.Size([256, 1, 3, 3]) torch.Size([256, 1])\n",
            "torch.Size([256, 1, 3, 3]) torch.Size([256, 1])\n",
            "torch.Size([256, 1, 3, 3]) torch.Size([256, 1])\n",
            "torch.Size([256, 1, 3, 3]) torch.Size([256, 1])\n",
            "torch.Size([512, 1, 3, 3]) torch.Size([512, 1])\n",
            "torch.Size([512, 1, 3, 3]) torch.Size([512, 1])\n",
            "torch.Size([512, 1, 3, 3]) torch.Size([512, 1])\n",
            "torch.Size([512, 1, 3, 3]) torch.Size([512, 1])\n",
            "torch.Size([512, 1, 3, 3]) torch.Size([512, 1])\n",
            "torch.Size([512, 1, 3, 3]) torch.Size([512, 1])\n",
            "torch.Size([512, 1, 3, 3]) torch.Size([512, 1])\n",
            "torch.Size([512, 1, 3, 3]) torch.Size([512, 1])\n",
            "torch.Size([512, 1, 3, 3]) torch.Size([512, 1])\n",
            "torch.Size([512, 1, 3, 3]) torch.Size([512, 1])\n",
            "torch.Size([512, 1, 3, 3]) torch.Size([512, 1])\n",
            "torch.Size([512, 1, 3, 3]) torch.Size([512, 1])\n",
            "Learn path /root/.fastai/data/imagewoof2\n"
          ],
          "name": "stdout"
        },
        {
          "output_type": "display_data",
          "data": {
            "text/html": [
              "<table border=\"1\" class=\"dataframe\">\n",
              "  <thead>\n",
              "    <tr style=\"text-align: left;\">\n",
              "      <th>epoch</th>\n",
              "      <th>train_loss</th>\n",
              "      <th>valid_loss</th>\n",
              "      <th>accuracy</th>\n",
              "      <th>top_k_accuracy</th>\n",
              "      <th>time</th>\n",
              "    </tr>\n",
              "  </thead>\n",
              "  <tbody>\n",
              "    <tr>\n",
              "      <td>0</td>\n",
              "      <td>1.823085</td>\n",
              "      <td>1.735180</td>\n",
              "      <td>0.456096</td>\n",
              "      <td>0.899720</td>\n",
              "      <td>03:02</td>\n",
              "    </tr>\n",
              "    <tr>\n",
              "      <td>1</td>\n",
              "      <td>1.638420</td>\n",
              "      <td>1.568169</td>\n",
              "      <td>0.535251</td>\n",
              "      <td>0.923136</td>\n",
              "      <td>03:02</td>\n",
              "    </tr>\n",
              "    <tr>\n",
              "      <td>2</td>\n",
              "      <td>1.466016</td>\n",
              "      <td>1.369629</td>\n",
              "      <td>0.637058</td>\n",
              "      <td>0.950624</td>\n",
              "      <td>03:02</td>\n",
              "    </tr>\n",
              "    <tr>\n",
              "      <td>3</td>\n",
              "      <td>1.316678</td>\n",
              "      <td>1.256920</td>\n",
              "      <td>0.685671</td>\n",
              "      <td>0.956986</td>\n",
              "      <td>03:02</td>\n",
              "    </tr>\n",
              "    <tr>\n",
              "      <td>4</td>\n",
              "      <td>1.118499</td>\n",
              "      <td>1.070651</td>\n",
              "      <td>0.766862</td>\n",
              "      <td>0.974294</td>\n",
              "      <td>03:02</td>\n",
              "    </tr>\n",
              "  </tbody>\n",
              "</table>"
            ],
            "text/plain": [
              "<IPython.core.display.HTML object>"
            ]
          },
          "metadata": {
            "tags": []
          }
        },
        {
          "output_type": "stream",
          "text": [
            "/usr/local/lib/python3.6/dist-packages/torch/nn/functional.py:2854: UserWarning: The default behavior for interpolate/upsample with float scale_factor will change in 1.6.0 to align with other frameworks/libraries, and use scale_factor directly, instead of relying on the computed output size. If you wish to keep the old behavior, please set recompute_scale_factor=True. See the documentation of nn.Upsample for details. \n",
            "  warnings.warn(\"The default behavior for interpolate/upsample with float scale_factor will change \"\n"
          ],
          "name": "stderr"
        },
        {
          "output_type": "stream",
          "text": [
            "data path   /root/.fastai/data/imagewoof2\n"
          ],
          "name": "stdout"
        },
        {
          "output_type": "stream",
          "text": [
            "/usr/local/lib/python3.6/dist-packages/torch/nn/functional.py:2854: UserWarning: The default behavior for interpolate/upsample with float scale_factor will change in 1.6.0 to align with other frameworks/libraries, and use scale_factor directly, instead of relying on the computed output size. If you wish to keep the old behavior, please set recompute_scale_factor=True. See the documentation of nn.Upsample for details. \n",
            "  warnings.warn(\"The default behavior for interpolate/upsample with float scale_factor will change \"\n",
            "/usr/local/lib/python3.6/dist-packages/torch/nn/functional.py:2854: UserWarning: The default behavior for interpolate/upsample with float scale_factor will change in 1.6.0 to align with other frameworks/libraries, and use scale_factor directly, instead of relying on the computed output size. If you wish to keep the old behavior, please set recompute_scale_factor=True. See the documentation of nn.Upsample for details. \n",
            "  warnings.warn(\"The default behavior for interpolate/upsample with float scale_factor will change \"\n",
            "/usr/local/lib/python3.6/dist-packages/torch/nn/functional.py:2854: UserWarning: The default behavior for interpolate/upsample with float scale_factor will change in 1.6.0 to align with other frameworks/libraries, and use scale_factor directly, instead of relying on the computed output size. If you wish to keep the old behavior, please set recompute_scale_factor=True. See the documentation of nn.Upsample for details. \n",
            "  warnings.warn(\"The default behavior for interpolate/upsample with float scale_factor will change \"\n",
            "/usr/local/lib/python3.6/dist-packages/torch/nn/functional.py:2854: UserWarning: The default behavior for interpolate/upsample with float scale_factor will change in 1.6.0 to align with other frameworks/libraries, and use scale_factor directly, instead of relying on the computed output size. If you wish to keep the old behavior, please set recompute_scale_factor=True. See the documentation of nn.Upsample for details. \n",
            "  warnings.warn(\"The default behavior for interpolate/upsample with float scale_factor will change \"\n",
            "/usr/local/lib/python3.6/dist-packages/torch/nn/functional.py:2854: UserWarning: The default behavior for interpolate/upsample with float scale_factor will change in 1.6.0 to align with other frameworks/libraries, and use scale_factor directly, instead of relying on the computed output size. If you wish to keep the old behavior, please set recompute_scale_factor=True. See the documentation of nn.Upsample for details. \n",
            "  warnings.warn(\"The default behavior for interpolate/upsample with float scale_factor will change \"\n",
            "/usr/local/lib/python3.6/dist-packages/torch/nn/functional.py:2854: UserWarning: The default behavior for interpolate/upsample with float scale_factor will change in 1.6.0 to align with other frameworks/libraries, and use scale_factor directly, instead of relying on the computed output size. If you wish to keep the old behavior, please set recompute_scale_factor=True. See the documentation of nn.Upsample for details. \n",
            "  warnings.warn(\"The default behavior for interpolate/upsample with float scale_factor will change \"\n",
            "/usr/local/lib/python3.6/dist-packages/torch/nn/functional.py:2854: UserWarning: The default behavior for interpolate/upsample with float scale_factor will change in 1.6.0 to align with other frameworks/libraries, and use scale_factor directly, instead of relying on the computed output size. If you wish to keep the old behavior, please set recompute_scale_factor=True. See the documentation of nn.Upsample for details. \n",
            "  warnings.warn(\"The default behavior for interpolate/upsample with float scale_factor will change \"\n",
            "/usr/local/lib/python3.6/dist-packages/torch/nn/functional.py:2854: UserWarning: The default behavior for interpolate/upsample with float scale_factor will change in 1.6.0 to align with other frameworks/libraries, and use scale_factor directly, instead of relying on the computed output size. If you wish to keep the old behavior, please set recompute_scale_factor=True. See the documentation of nn.Upsample for details. \n",
            "  warnings.warn(\"The default behavior for interpolate/upsample with float scale_factor will change \"\n"
          ],
          "name": "stderr"
        },
        {
          "output_type": "stream",
          "text": [
            "torch.Size([64, 1, 3, 3]) torch.Size([64, 1])\n",
            "torch.Size([64, 1, 3, 3]) torch.Size([64, 1])\n",
            "torch.Size([64, 1, 3, 3]) torch.Size([64, 1])\n",
            "torch.Size([64, 1, 3, 3]) torch.Size([64, 1])\n",
            "torch.Size([128, 1, 3, 3]) torch.Size([128, 1])\n",
            "torch.Size([128, 1, 3, 3]) torch.Size([128, 1])\n",
            "torch.Size([128, 1, 3, 3]) torch.Size([128, 1])\n",
            "torch.Size([128, 1, 3, 3]) torch.Size([128, 1])\n",
            "torch.Size([128, 1, 3, 3]) torch.Size([128, 1])\n",
            "torch.Size([128, 1, 3, 3]) torch.Size([128, 1])\n",
            "torch.Size([256, 1, 3, 3]) torch.Size([256, 1])\n",
            "torch.Size([256, 1, 3, 3]) torch.Size([256, 1])\n",
            "torch.Size([256, 1, 3, 3]) torch.Size([256, 1])\n",
            "torch.Size([256, 1, 3, 3]) torch.Size([256, 1])\n",
            "torch.Size([256, 1, 3, 3]) torch.Size([256, 1])\n",
            "torch.Size([256, 1, 3, 3]) torch.Size([256, 1])\n",
            "torch.Size([256, 1, 3, 3]) torch.Size([256, 1])\n",
            "torch.Size([256, 1, 3, 3]) torch.Size([256, 1])\n",
            "torch.Size([512, 1, 3, 3]) torch.Size([512, 1])\n",
            "torch.Size([512, 1, 3, 3]) torch.Size([512, 1])\n",
            "torch.Size([512, 1, 3, 3]) torch.Size([512, 1])\n",
            "torch.Size([512, 1, 3, 3]) torch.Size([512, 1])\n",
            "torch.Size([512, 1, 3, 3]) torch.Size([512, 1])\n",
            "torch.Size([512, 1, 3, 3]) torch.Size([512, 1])\n",
            "torch.Size([512, 1, 3, 3]) torch.Size([512, 1])\n",
            "torch.Size([512, 1, 3, 3]) torch.Size([512, 1])\n",
            "torch.Size([512, 1, 3, 3]) torch.Size([512, 1])\n",
            "torch.Size([512, 1, 3, 3]) torch.Size([512, 1])\n",
            "torch.Size([512, 1, 3, 3]) torch.Size([512, 1])\n",
            "torch.Size([512, 1, 3, 3]) torch.Size([512, 1])\n",
            "Learn path /root/.fastai/data/imagewoof2\n"
          ],
          "name": "stdout"
        },
        {
          "output_type": "display_data",
          "data": {
            "text/html": [
              "<table border=\"1\" class=\"dataframe\">\n",
              "  <thead>\n",
              "    <tr style=\"text-align: left;\">\n",
              "      <th>epoch</th>\n",
              "      <th>train_loss</th>\n",
              "      <th>valid_loss</th>\n",
              "      <th>accuracy</th>\n",
              "      <th>top_k_accuracy</th>\n",
              "      <th>time</th>\n",
              "    </tr>\n",
              "  </thead>\n",
              "  <tbody>\n",
              "    <tr>\n",
              "      <td>0</td>\n",
              "      <td>1.870976</td>\n",
              "      <td>1.772611</td>\n",
              "      <td>0.433189</td>\n",
              "      <td>0.890557</td>\n",
              "      <td>03:02</td>\n",
              "    </tr>\n",
              "    <tr>\n",
              "      <td>1</td>\n",
              "      <td>1.602841</td>\n",
              "      <td>1.613015</td>\n",
              "      <td>0.527870</td>\n",
              "      <td>0.918300</td>\n",
              "      <td>03:02</td>\n",
              "    </tr>\n",
              "    <tr>\n",
              "      <td>2</td>\n",
              "      <td>1.446168</td>\n",
              "      <td>1.372387</td>\n",
              "      <td>0.623059</td>\n",
              "      <td>0.947315</td>\n",
              "      <td>03:03</td>\n",
              "    </tr>\n",
              "    <tr>\n",
              "      <td>3</td>\n",
              "      <td>1.315886</td>\n",
              "      <td>1.197335</td>\n",
              "      <td>0.708068</td>\n",
              "      <td>0.964622</td>\n",
              "      <td>03:02</td>\n",
              "    </tr>\n",
              "    <tr>\n",
              "      <td>4</td>\n",
              "      <td>1.096347</td>\n",
              "      <td>1.048956</td>\n",
              "      <td>0.777552</td>\n",
              "      <td>0.973530</td>\n",
              "      <td>03:02</td>\n",
              "    </tr>\n",
              "  </tbody>\n",
              "</table>"
            ],
            "text/plain": [
              "<IPython.core.display.HTML object>"
            ]
          },
          "metadata": {
            "tags": []
          }
        },
        {
          "output_type": "stream",
          "text": [
            "/usr/local/lib/python3.6/dist-packages/torch/nn/functional.py:2854: UserWarning: The default behavior for interpolate/upsample with float scale_factor will change in 1.6.0 to align with other frameworks/libraries, and use scale_factor directly, instead of relying on the computed output size. If you wish to keep the old behavior, please set recompute_scale_factor=True. See the documentation of nn.Upsample for details. \n",
            "  warnings.warn(\"The default behavior for interpolate/upsample with float scale_factor will change \"\n"
          ],
          "name": "stderr"
        },
        {
          "output_type": "stream",
          "text": [
            "data path   /root/.fastai/data/imagewoof2\n"
          ],
          "name": "stdout"
        },
        {
          "output_type": "stream",
          "text": [
            "/usr/local/lib/python3.6/dist-packages/torch/nn/functional.py:2854: UserWarning: The default behavior for interpolate/upsample with float scale_factor will change in 1.6.0 to align with other frameworks/libraries, and use scale_factor directly, instead of relying on the computed output size. If you wish to keep the old behavior, please set recompute_scale_factor=True. See the documentation of nn.Upsample for details. \n",
            "  warnings.warn(\"The default behavior for interpolate/upsample with float scale_factor will change \"\n",
            "/usr/local/lib/python3.6/dist-packages/torch/nn/functional.py:2854: UserWarning: The default behavior for interpolate/upsample with float scale_factor will change in 1.6.0 to align with other frameworks/libraries, and use scale_factor directly, instead of relying on the computed output size. If you wish to keep the old behavior, please set recompute_scale_factor=True. See the documentation of nn.Upsample for details. \n",
            "  warnings.warn(\"The default behavior for interpolate/upsample with float scale_factor will change \"\n",
            "/usr/local/lib/python3.6/dist-packages/torch/nn/functional.py:2854: UserWarning: The default behavior for interpolate/upsample with float scale_factor will change in 1.6.0 to align with other frameworks/libraries, and use scale_factor directly, instead of relying on the computed output size. If you wish to keep the old behavior, please set recompute_scale_factor=True. See the documentation of nn.Upsample for details. \n",
            "  warnings.warn(\"The default behavior for interpolate/upsample with float scale_factor will change \"\n",
            "/usr/local/lib/python3.6/dist-packages/torch/nn/functional.py:2854: UserWarning: The default behavior for interpolate/upsample with float scale_factor will change in 1.6.0 to align with other frameworks/libraries, and use scale_factor directly, instead of relying on the computed output size. If you wish to keep the old behavior, please set recompute_scale_factor=True. See the documentation of nn.Upsample for details. \n",
            "  warnings.warn(\"The default behavior for interpolate/upsample with float scale_factor will change \"\n",
            "/usr/local/lib/python3.6/dist-packages/torch/nn/functional.py:2854: UserWarning: The default behavior for interpolate/upsample with float scale_factor will change in 1.6.0 to align with other frameworks/libraries, and use scale_factor directly, instead of relying on the computed output size. If you wish to keep the old behavior, please set recompute_scale_factor=True. See the documentation of nn.Upsample for details. \n",
            "  warnings.warn(\"The default behavior for interpolate/upsample with float scale_factor will change \"\n"
          ],
          "name": "stderr"
        },
        {
          "output_type": "stream",
          "text": [
            "torch.Size([64, 1, 3, 3]) torch.Size([64, 1])\n",
            "torch.Size([64, 1, 3, 3]) torch.Size([64, 1])\n",
            "torch.Size([64, 1, 3, 3]) torch.Size([64, 1])\n",
            "torch.Size([64, 1, 3, 3]) torch.Size([64, 1])\n",
            "torch.Size([128, 1, 3, 3]) torch.Size([128, 1])\n",
            "torch.Size([128, 1, 3, 3]) torch.Size([128, 1])\n",
            "torch.Size([128, 1, 3, 3]) torch.Size([128, 1])\n",
            "torch.Size([128, 1, 3, 3]) torch.Size([128, 1])\n",
            "torch.Size([128, 1, 3, 3]) torch.Size([128, 1])\n",
            "torch.Size([128, 1, 3, 3]) torch.Size([128, 1])\n",
            "torch.Size([256, 1, 3, 3]) torch.Size([256, 1])\n",
            "torch.Size([256, 1, 3, 3]) torch.Size([256, 1])\n",
            "torch.Size([256, 1, 3, 3]) torch.Size([256, 1])\n",
            "torch.Size([256, 1, 3, 3]) torch.Size([256, 1])\n",
            "torch.Size([256, 1, 3, 3]) torch.Size([256, 1])\n",
            "torch.Size([256, 1, 3, 3]) torch.Size([256, 1])\n",
            "torch.Size([256, 1, 3, 3]) torch.Size([256, 1])\n",
            "torch.Size([256, 1, 3, 3]) torch.Size([256, 1])\n",
            "torch.Size([512, 1, 3, 3]) torch.Size([512, 1])\n",
            "torch.Size([512, 1, 3, 3]) torch.Size([512, 1])\n",
            "torch.Size([512, 1, 3, 3]) torch.Size([512, 1])\n",
            "torch.Size([512, 1, 3, 3]) torch.Size([512, 1])\n",
            "torch.Size([512, 1, 3, 3]) torch.Size([512, 1])\n",
            "torch.Size([512, 1, 3, 3]) torch.Size([512, 1])\n",
            "torch.Size([512, 1, 3, 3]) torch.Size([512, 1])\n",
            "torch.Size([512, 1, 3, 3]) torch.Size([512, 1])\n",
            "torch.Size([512, 1, 3, 3]) torch.Size([512, 1])\n",
            "torch.Size([512, 1, 3, 3]) torch.Size([512, 1])\n",
            "torch.Size([512, 1, 3, 3]) torch.Size([512, 1])\n",
            "torch.Size([512, 1, 3, 3]) torch.Size([512, 1])\n",
            "Learn path /root/.fastai/data/imagewoof2\n"
          ],
          "name": "stdout"
        },
        {
          "output_type": "display_data",
          "data": {
            "text/html": [
              "<table border=\"1\" class=\"dataframe\">\n",
              "  <thead>\n",
              "    <tr style=\"text-align: left;\">\n",
              "      <th>epoch</th>\n",
              "      <th>train_loss</th>\n",
              "      <th>valid_loss</th>\n",
              "      <th>accuracy</th>\n",
              "      <th>top_k_accuracy</th>\n",
              "      <th>time</th>\n",
              "    </tr>\n",
              "  </thead>\n",
              "  <tbody>\n",
              "    <tr>\n",
              "      <td>0</td>\n",
              "      <td>1.837242</td>\n",
              "      <td>1.809415</td>\n",
              "      <td>0.444897</td>\n",
              "      <td>0.898702</td>\n",
              "      <td>03:01</td>\n",
              "    </tr>\n",
              "    <tr>\n",
              "      <td>1</td>\n",
              "      <td>1.585258</td>\n",
              "      <td>1.495620</td>\n",
              "      <td>0.579028</td>\n",
              "      <td>0.929753</td>\n",
              "      <td>03:02</td>\n",
              "    </tr>\n",
              "    <tr>\n",
              "      <td>2</td>\n",
              "      <td>1.443826</td>\n",
              "      <td>1.338406</td>\n",
              "      <td>0.636294</td>\n",
              "      <td>0.953678</td>\n",
              "      <td>03:01</td>\n",
              "    </tr>\n",
              "    <tr>\n",
              "      <td>3</td>\n",
              "      <td>1.305953</td>\n",
              "      <td>1.225476</td>\n",
              "      <td>0.691016</td>\n",
              "      <td>0.963349</td>\n",
              "      <td>03:01</td>\n",
              "    </tr>\n",
              "    <tr>\n",
              "      <td>4</td>\n",
              "      <td>1.089486</td>\n",
              "      <td>1.050872</td>\n",
              "      <td>0.778315</td>\n",
              "      <td>0.975057</td>\n",
              "      <td>03:02</td>\n",
              "    </tr>\n",
              "  </tbody>\n",
              "</table>"
            ],
            "text/plain": [
              "<IPython.core.display.HTML object>"
            ]
          },
          "metadata": {
            "tags": []
          }
        },
        {
          "output_type": "stream",
          "text": [
            "/usr/local/lib/python3.6/dist-packages/torch/nn/functional.py:2854: UserWarning: The default behavior for interpolate/upsample with float scale_factor will change in 1.6.0 to align with other frameworks/libraries, and use scale_factor directly, instead of relying on the computed output size. If you wish to keep the old behavior, please set recompute_scale_factor=True. See the documentation of nn.Upsample for details. \n",
            "  warnings.warn(\"The default behavior for interpolate/upsample with float scale_factor will change \"\n"
          ],
          "name": "stderr"
        },
        {
          "output_type": "stream",
          "text": [
            "[0.766862, 0.777552, 0.778315] 0.7742427984873453\n"
          ],
          "name": "stdout"
        }
      ]
    },
    {
      "cell_type": "markdown",
      "metadata": {
        "id": "erGtq_jTlI0C",
        "colab_type": "text"
      },
      "source": [
        "## size=192, epochs=5, 5-run average\n",
        "\n",
        "[3,4,6,3] (baseline)\n",
        "\n",
        "`[0.782133, 0.768134, 0.780097, 0.777806, 0.783405] 0.778315`\n",
        "\n",
        "### setting groups of 8 channels each, twist OFF. 4-cycles if permute on\n",
        "[3,4,6,3], permute on \\\n",
        "`[0.795113, 0.804276, 0.787478, 0.792314, 0.794604]` 0.7947569999999999\n",
        "\n",
        "[3,4,6,8], permute on \\\n",
        "`[0.796640, 0.807076, 0.804530, 0.807076, 0.800458]` 0.8031560000000001\n",
        "\n",
        "[5,8,12,15], permute on \\\n",
        "`[0.801476, 0.806312, 0.796895, 0.798167, 0.810893]` 0.8027485999999999\n",
        "\n",
        "[4,6,8,10], permute on \\\n",
        "`[0.806567, 0.806567, 0.812166, 0.808603, 0.809621]` 0.8087047999999999   \\\n",
        "`[0.805548, 0.790786, 0.801731, 0.811402, 0.811657]` 0.8042248000000001\n",
        "\n",
        "[4,6,8,8], permute on \\\n",
        "`[0.798676, 0.810893, 0.817256, 0.803003, 0.801476]` 0.8062607999999999\n",
        "\n",
        "[4,6,8,10], groups=1 (basic ResNet) \\\n",
        "`[0.793586, 0.801476, 0.788496, 0.803512, 0.793841]` 0.7961822 <<<<< even without groups at all\n",
        "\n",
        "[4,6,8,10], permute off \\\n",
        "`[0.791295, 0.800967, 0.806058, 0.789768, 0.808094]` 0.7992364000000001\n",
        "\n",
        "[4,8,12,12], permute on \\\n",
        "`[0.792314, 0.811148, 0.801222, 0.802240, 0.795622]` 0.8005091999999999\n",
        "\n",
        "[4,6,8,10], permute 4-groups, 4-cycles \\\n",
        "`[0.801222, 0.809621, 0.815984, 0.808348, 0.805039]` 0.8080427646636963\n",
        "\n",
        "[4,6,8,8], permute 4-groups, 4-cycles \\\n",
        "`[0.796895, 0.810893, 0.805803, 0.810893, 0.813439]` 0.8075846314430237 \\\n",
        "`[0.808094, 0.823619, 0.81242, 0.811402, 0.809366]` 0.**8129**804015159607  <<< WINNER\n",
        "\n",
        "[4,6,8,8], groups=4x4... \\\n",
        "`[0.81802, 0.807585, 0.800204, 0.811148, 0.806058]` 0.8086027026176452"
      ]
    },
    {
      "cell_type": "markdown",
      "metadata": {
        "id": "mb_FSao-lEUL",
        "colab_type": "text"
      },
      "source": [
        "## size=128\n",
        "\n",
        "### `epochs=80`, twist OFF\n",
        "[4,6,8,10], permute on \\\n",
        "`[0.8862305879592896]`\n",
        "[4,6,8,10], permute on, 2-cycles \\\n",
        "`[0.877577]`\n",
        "\n",
        "### `epochs=5`, 5-run average, twist OFF\n",
        "[4,6,8,10], permute on, 8-groups, 4-cycles \\\n",
        "`[0.769661, 0.758208, 0.769407, 0.76228, 0.76788]` 0.7654872\n",
        "\n",
        "[4,6,8,10], permute on, 8-groups, 2-cycles \\\n",
        "`[0.764062, 0.762789, 0.756681, 0.758463, 0.766098]` 0.7616186\n",
        "\n",
        "[4,6,8,10], permute on, 16-groups, 4-cycles \\\n",
        "`[0.76508, 0.766862, 0.748791, 0.751082, 0.750827]` 0.756528377532959\n",
        "\n",
        "[4,6,8,10], permute on, 4-groups, 4-cycles \\\n",
        "`[0.761517, 0.758717, 0.778061, 0.78086, 0.760499]` 0.7679307699203491"
      ]
    },
    {
      "cell_type": "code",
      "metadata": {
        "id": "H83lwi2RTFR_",
        "colab_type": "code",
        "colab": {}
      },
      "source": [
        "# [4,6,8,10], size=192, epochs=80\n",
        "for i in range(80):\n",
        "    print('epoch {} {}'.format(i, learn.recorder.metrics[i][0].item()))"
      ],
      "execution_count": 0,
      "outputs": []
    },
    {
      "cell_type": "code",
      "metadata": {
        "id": "KhyPra6gLUSO",
        "colab_type": "code",
        "outputId": "d590b20e-6d07-4dac-b238-279782305f04",
        "colab": {
          "base_uri": "https://localhost:8080/",
          "height": 1000
        }
      },
      "source": [
        "# [4,6,8,10], size=192, epochs=80\n",
        "for i in range(80):\n",
        "    print('epoch {} {}'.format(i, learn.recorder.metrics[i][0].item()))"
      ],
      "execution_count": 0,
      "outputs": [
        {
          "output_type": "stream",
          "text": [
            "epoch 0 0.4059557020664215\n",
            "epoch 1 0.47213029861450195\n",
            "epoch 2 0.5886994004249573\n",
            "epoch 3 0.6602188944816589\n",
            "epoch 4 0.7177398800849915\n",
            "epoch 5 0.7317383289337158\n",
            "epoch 6 0.7602443099021912\n",
            "epoch 7 0.7795876860618591\n",
            "epoch 8 0.7912954688072205\n",
            "epoch 9 0.7887502908706665\n",
            "epoch 10 0.7793331742286682\n",
            "epoch 11 0.8027487993240356\n",
            "epoch 12 0.8149656653404236\n",
            "epoch 13 0.8045304417610168\n",
            "epoch 14 0.8139475584030151\n",
            "epoch 15 0.8180198669433594\n",
            "epoch 16 0.8022397756576538\n",
            "epoch 17 0.8337999582290649\n",
            "epoch 18 0.8340544700622559\n",
            "epoch 19 0.8315092921257019\n",
            "epoch 20 0.8404173851013184\n",
            "epoch 21 0.8449987173080444\n",
            "epoch 22 0.8434716463088989\n",
            "epoch 23 0.8460168242454529\n",
            "epoch 24 0.8327818512916565\n",
            "epoch 25 0.8567065596580505\n",
            "epoch 26 0.8623059391975403\n",
            "epoch 27 0.8483074307441711\n",
            "epoch 28 0.8589972257614136\n",
            "epoch 29 0.8577246069908142\n",
            "epoch 30 0.8551794290542603\n",
            "epoch 31 0.8531432747840881\n",
            "epoch 32 0.8500890731811523\n",
            "epoch 33 0.8569610714912415\n",
            "epoch 34 0.8628149628639221\n",
            "epoch 35 0.8648511171340942\n",
            "epoch 36 0.8521252274513245\n",
            "epoch 37 0.8666327595710754\n",
            "epoch 38 0.8554339408874512\n",
            "epoch 39 0.8531432747840881\n",
            "epoch 40 0.8488165140151978\n",
            "epoch 41 0.8505980968475342\n",
            "epoch 42 0.858488142490387\n",
            "epoch 43 0.8691779375076294\n",
            "epoch 44 0.8615424036979675\n",
            "epoch 45 0.86077880859375\n",
            "epoch 46 0.8549249172210693\n",
            "epoch 47 0.8686688542366028\n",
            "epoch 48 0.8460168242454529\n",
            "epoch 49 0.8645966053009033\n",
            "epoch 50 0.8689233660697937\n",
            "epoch 51 0.8623059391975403\n",
            "epoch 52 0.8500890731811523\n",
            "epoch 53 0.8595062494277954\n",
            "epoch 54 0.8612878322601318\n",
            "epoch 55 0.8612878322601318\n",
            "epoch 56 0.8628149628639221\n",
            "epoch 57 0.8707050085067749\n",
            "epoch 58 0.8750318288803101\n",
            "epoch 59 0.8750318288803101\n",
            "epoch 60 0.8709595203399658\n",
            "epoch 61 0.8714685440063477\n",
            "epoch 62 0.8663781881332397\n",
            "epoch 63 0.8740137219429016\n",
            "epoch 64 0.877577006816864\n",
            "epoch 65 0.8747773170471191\n",
            "epoch 66 0.8826673626899719\n",
            "epoch 67 0.8836854100227356\n",
            "epoch 68 0.8839399218559265\n",
            "epoch 69 0.8867396116256714\n",
            "epoch 70 0.8829218745231628\n",
            "epoch 71 0.8890302777290344\n",
            "epoch 72 0.8928480744361877\n",
            "epoch 73 0.8885212540626526\n",
            "epoch 74 0.8915754556655884\n",
            "epoch 75 0.8948841691017151\n",
            "epoch 76 0.8941206336021423\n",
            "epoch 77 0.8981929421424866\n",
            "epoch 78 0.8971748352050781\n",
            "epoch 79 0.8979384303092957\n"
          ],
          "name": "stdout"
        }
      ]
    },
    {
      "cell_type": "code",
      "metadata": {
        "id": "LMhiRLc0KiF5",
        "colab_type": "code",
        "outputId": "b841ce2b-df74-485b-bfc2-62597801f332",
        "colab": {
          "base_uri": "https://localhost:8080/",
          "height": 34
        }
      },
      "source": [
        "res = [0.762026, 0.753881, 0.763553, 0.772716, 0.758717]\n",
        "sum(res) / len(res)"
      ],
      "execution_count": 0,
      "outputs": [
        {
          "output_type": "execute_result",
          "data": {
            "text/plain": [
              "0.7621785999999999"
            ]
          },
          "metadata": {
            "tags": []
          },
          "execution_count": 15
        }
      ]
    },
    {
      "cell_type": "code",
      "metadata": {
        "id": "LhfpUpuCvaXP",
        "colab_type": "code",
        "outputId": "2f393ec9-8dc6-4884-c274-f88e41b7d029",
        "colab": {
          "base_uri": "https://localhost:8080/",
          "height": 34
        }
      },
      "source": [
        "res = [0.764826, 0.762789, 0.760244, 0.770425, 0.764826]\n",
        "sum(res) / len(res)"
      ],
      "execution_count": 0,
      "outputs": [
        {
          "output_type": "execute_result",
          "data": {
            "text/plain": [
              "0.7646219999999999"
            ]
          },
          "metadata": {
            "tags": []
          },
          "execution_count": 19
        }
      ]
    },
    {
      "cell_type": "code",
      "metadata": {
        "id": "Z-DCfMat0_Av",
        "colab_type": "code",
        "outputId": "4a32129b-1585-4103-c9ec-02f6f799e615",
        "colab": {
          "base_uri": "https://localhost:8080/",
          "height": 34
        }
      },
      "source": [
        "res = [0.775770, 0.762026, 0.768389, 0.748791, 0.763553]\n",
        "sum(res) / len(res)"
      ],
      "execution_count": 0,
      "outputs": [
        {
          "output_type": "execute_result",
          "data": {
            "text/plain": [
              "0.7637058"
            ]
          },
          "metadata": {
            "tags": []
          },
          "execution_count": 21
        }
      ]
    },
    {
      "cell_type": "code",
      "metadata": {
        "id": "AnaXMo8iEHl2",
        "colab_type": "code",
        "outputId": "87895148-c87a-4f1d-e425-df3057e5992c",
        "colab": {
          "base_uri": "https://localhost:8080/",
          "height": 34
        }
      },
      "source": [
        "res = [0.761262, 0.749809, 0.773988, 0.764571, 0.762026]\n",
        "sum(res) / len(res)"
      ],
      "execution_count": 0,
      "outputs": [
        {
          "output_type": "execute_result",
          "data": {
            "text/plain": [
              "0.7623312"
            ]
          },
          "metadata": {
            "tags": []
          },
          "execution_count": 26
        }
      ]
    },
    {
      "cell_type": "code",
      "metadata": {
        "id": "oKTg8N0GVcQH",
        "colab_type": "code",
        "outputId": "81346a81-8528-4375-d73f-3c12afcc28dc",
        "colab": {
          "base_uri": "https://localhost:8080/",
          "height": 179
        }
      },
      "source": [
        "for i in range(80):\n",
        "    print('epoch {} {}'.format(i, learn.recorder.metrics[i][0].item()))"
      ],
      "execution_count": 0,
      "outputs": [
        {
          "output_type": "error",
          "ename": "NameError",
          "evalue": "ignored",
          "traceback": [
            "\u001b[0;31m---------------------------------------------------------------------------\u001b[0m",
            "\u001b[0;31mNameError\u001b[0m                                 Traceback (most recent call last)",
            "\u001b[0;32m<ipython-input-1-68236fca31a3>\u001b[0m in \u001b[0;36m<module>\u001b[0;34m()\u001b[0m\n\u001b[1;32m      1\u001b[0m \u001b[0;32mfor\u001b[0m \u001b[0mi\u001b[0m \u001b[0;32min\u001b[0m \u001b[0mrange\u001b[0m\u001b[0;34m(\u001b[0m\u001b[0;36m80\u001b[0m\u001b[0;34m)\u001b[0m\u001b[0;34m:\u001b[0m\u001b[0;34m\u001b[0m\u001b[0;34m\u001b[0m\u001b[0m\n\u001b[0;32m----> 2\u001b[0;31m     \u001b[0mprint\u001b[0m\u001b[0;34m(\u001b[0m\u001b[0;34m'epoch {} {}'\u001b[0m\u001b[0;34m.\u001b[0m\u001b[0mformat\u001b[0m\u001b[0;34m(\u001b[0m\u001b[0mi\u001b[0m\u001b[0;34m,\u001b[0m \u001b[0mlearn\u001b[0m\u001b[0;34m.\u001b[0m\u001b[0mrecorder\u001b[0m\u001b[0;34m.\u001b[0m\u001b[0mmetrics\u001b[0m\u001b[0;34m[\u001b[0m\u001b[0mi\u001b[0m\u001b[0;34m]\u001b[0m\u001b[0;34m[\u001b[0m\u001b[0;36m0\u001b[0m\u001b[0;34m]\u001b[0m\u001b[0;34m.\u001b[0m\u001b[0mitem\u001b[0m\u001b[0;34m(\u001b[0m\u001b[0;34m)\u001b[0m\u001b[0;34m)\u001b[0m\u001b[0;34m)\u001b[0m\u001b[0;34m\u001b[0m\u001b[0;34m\u001b[0m\u001b[0m\n\u001b[0m",
            "\u001b[0;31mNameError\u001b[0m: name 'learn' is not defined"
          ]
        }
      ]
    },
    {
      "cell_type": "code",
      "metadata": {
        "id": "JarKVZUH-XJ8",
        "colab_type": "code",
        "outputId": "41865373-1cad-4b15-9417-47a2fa9f78cf",
        "colab": {
          "base_uri": "https://localhost:8080/",
          "height": 1000
        }
      },
      "source": [
        "for i in range(80):\n",
        "    print('epoch {} {}'.format(i, learn.recorder.metrics[i][0].item()))"
      ],
      "execution_count": 0,
      "outputs": [
        {
          "output_type": "stream",
          "text": [
            "epoch 0 0.35607025027275085\n",
            "epoch 1 0.4662764072418213\n",
            "epoch 2 0.5454314351081848\n",
            "epoch 3 0.601679801940918\n",
            "epoch 4 0.6627640724182129\n",
            "epoch 5 0.6864342093467712\n",
            "epoch 6 0.7258844375610352\n",
            "epoch 7 0.7520997524261475\n",
            "epoch 8 0.7638075947761536\n",
            "epoch 9 0.7737337946891785\n",
            "epoch 10 0.7793331742286682\n",
            "epoch 11 0.7778060436248779\n",
            "epoch 12 0.7813693284988403\n",
            "epoch 13 0.7979129552841187\n",
            "epoch 14 0.8027487993240356\n",
            "epoch 15 0.8083481788635254\n",
            "epoch 16 0.8139475584030151\n",
            "epoch 17 0.8164927363395691\n",
            "epoch 18 0.8185288906097412\n",
            "epoch 19 0.8343089818954468\n",
            "epoch 20 0.8248918056488037\n",
            "epoch 21 0.828964114189148\n",
            "epoch 22 0.8304912447929382\n",
            "epoch 23 0.8307457566261292\n",
            "epoch 24 0.8373631834983826\n",
            "epoch 25 0.8195469379425049\n",
            "epoch 26 0.8279460668563843\n",
            "epoch 27 0.8376176953315735\n",
            "epoch 28 0.8439806699752808\n",
            "epoch 29 0.8332909345626831\n",
            "epoch 30 0.8411809802055359\n",
            "epoch 31 0.8358361124992371\n",
            "epoch 32 0.8282005786895752\n",
            "epoch 33 0.8297276496887207\n",
            "epoch 34 0.8475438952445984\n",
            "epoch 35 0.8421990275382996\n",
            "epoch 36 0.8353270292282104\n",
            "epoch 37 0.8442351818084717\n",
            "epoch 38 0.8355816006660461\n",
            "epoch 39 0.8447442054748535\n",
            "epoch 40 0.8439806699752808\n",
            "epoch 41 0.8493255376815796\n",
            "epoch 42 0.8434716463088989\n",
            "epoch 43 0.8505980968475342\n",
            "epoch 44 0.8396538496017456\n",
            "epoch 45 0.8546704053878784\n",
            "epoch 46 0.8495800495147705\n",
            "epoch 47 0.8500890731811523\n",
            "epoch 48 0.8294731378555298\n",
            "epoch 49 0.8414354920387268\n",
            "epoch 50 0.8432170748710632\n",
            "epoch 51 0.8518707156181335\n",
            "epoch 52 0.8493255376815796\n",
            "epoch 53 0.8386358022689819\n",
            "epoch 54 0.8483074307441711\n",
            "epoch 55 0.8406718969345093\n",
            "epoch 56 0.8444896936416626\n",
            "epoch 57 0.8511071801185608\n",
            "epoch 58 0.831254780292511\n",
            "epoch 59 0.8472893834114075\n",
            "epoch 60 0.8595062494277954\n",
            "epoch 61 0.8528887629508972\n",
            "epoch 62 0.8503435850143433\n",
            "epoch 63 0.8589972257614136\n",
            "epoch 64 0.8488165140151978\n",
            "epoch 65 0.8544158935546875\n",
            "epoch 66 0.8600152730941772\n",
            "epoch 67 0.8625604510307312\n",
            "epoch 68 0.8628149628639221\n",
            "epoch 69 0.8686688542366028\n",
            "epoch 70 0.870450496673584\n",
            "epoch 71 0.8740137219429016\n",
            "epoch 72 0.8724866509437561\n",
            "epoch 73 0.8737592101097107\n",
            "epoch 74 0.877577006816864\n",
            "epoch 75 0.875286340713501\n",
            "epoch 76 0.8780860304832458\n",
            "epoch 77 0.8750318288803101\n",
            "epoch 78 0.877577006816864\n",
            "epoch 79 0.8757953643798828\n"
          ],
          "name": "stdout"
        }
      ]
    },
    {
      "cell_type": "code",
      "metadata": {
        "id": "VTJH7w2HFyxd",
        "colab_type": "code",
        "outputId": "ad4c9192-880c-4094-c9e2-1d2d0cb5c6cc",
        "colab": {
          "base_uri": "https://localhost:8080/",
          "height": 1000
        }
      },
      "source": [
        "for i in range(80):\n",
        "    print('epoch {} {}'.format(i, learn.recorder.metrics[i][0].item()))"
      ],
      "execution_count": 0,
      "outputs": [
        {
          "output_type": "stream",
          "text": [
            "epoch 0 0.39857470989227295\n",
            "epoch 1 0.4728938639163971\n",
            "epoch 2 0.5808093547821045\n",
            "epoch 3 0.6230593323707581\n",
            "epoch 4 0.6877067685127258\n",
            "epoch 5 0.7093408107757568\n",
            "epoch 6 0.7437006831169128\n",
            "epoch 7 0.7421735525131226\n",
            "epoch 8 0.7686434388160706\n",
            "epoch 9 0.7790786623954773\n",
            "epoch 10 0.7788241505622864\n",
            "epoch 11 0.7971494197845459\n",
            "epoch 12 0.7961313128471375\n",
            "epoch 13 0.7739883065223694\n",
            "epoch 14 0.8009671568870544\n",
            "epoch 15 0.8129295110702515\n",
            "epoch 16 0.8030033111572266\n",
            "epoch 17 0.8180198669433594\n",
            "epoch 18 0.8129295110702515\n",
            "epoch 19 0.8172562718391418\n",
            "epoch 20 0.8292186260223389\n",
            "epoch 21 0.828709602355957\n",
            "epoch 22 0.819037914276123\n",
            "epoch 23 0.8297276496887207\n",
            "epoch 24 0.8279460668563843\n",
            "epoch 25 0.8284550905227661\n",
            "epoch 26 0.8404173851013184\n",
            "epoch 27 0.8465258479118347\n",
            "epoch 28 0.821583092212677\n",
            "epoch 29 0.8343089818954468\n",
            "epoch 30 0.8256554007530212\n",
            "epoch 31 0.8388903141021729\n",
            "epoch 32 0.8437261581420898\n",
            "epoch 33 0.8404173851013184\n",
            "epoch 34 0.8404173851013184\n",
            "epoch 35 0.8399083614349365\n",
            "epoch 36 0.8388903141021729\n",
            "epoch 37 0.8355816006660461\n",
            "epoch 38 0.8449987173080444\n",
            "epoch 39 0.8411809802055359\n",
            "epoch 40 0.8365996479988098\n",
            "epoch 41 0.8460168242454529\n",
            "epoch 42 0.8467803597450256\n",
            "epoch 43 0.8386358022689819\n",
            "epoch 44 0.8345634937286377\n",
            "epoch 45 0.8427080512046814\n",
            "epoch 46 0.8381267786026001\n",
            "epoch 47 0.8424535393714905\n",
            "epoch 48 0.8493255376815796\n",
            "epoch 49 0.8457622528076172\n",
            "epoch 50 0.8488165140151978\n",
            "epoch 51 0.8404173851013184\n",
            "epoch 52 0.8485620021820068\n",
            "epoch 53 0.8439806699752808\n",
            "epoch 54 0.8470348715782166\n",
            "epoch 55 0.8485620021820068\n",
            "epoch 56 0.8528887629508972\n",
            "epoch 57 0.8452532291412354\n",
            "epoch 58 0.8483074307441711\n",
            "epoch 59 0.8447442054748535\n",
            "epoch 60 0.8447442054748535\n",
            "epoch 61 0.8432170748710632\n",
            "epoch 62 0.8508526086807251\n",
            "epoch 63 0.8551794290542603\n",
            "epoch 64 0.8539068698883057\n",
            "epoch 65 0.8513616919517517\n",
            "epoch 66 0.8551794290542603\n",
            "epoch 67 0.8615424036979675\n",
            "epoch 68 0.8663781881332397\n",
            "epoch 69 0.868159830570221\n",
            "epoch 70 0.8732501864433289\n",
            "epoch 71 0.8676508069038391\n",
            "epoch 72 0.8719776272773743\n",
            "epoch 73 0.8760498762130737\n",
            "epoch 74 0.8729956746101379\n",
            "epoch 75 0.8768134117126465\n",
            "epoch 76 0.879867672920227\n",
            "epoch 77 0.8788495659828186\n",
            "epoch 78 0.880122184753418\n",
            "epoch 79 0.8803766965866089\n"
          ],
          "name": "stdout"
        }
      ]
    },
    {
      "cell_type": "code",
      "metadata": {
        "id": "IqRpQSOc1Qph",
        "colab_type": "code",
        "outputId": "e7729b46-dfea-416e-8bd8-9955a9738092",
        "colab": {
          "base_uri": "https://localhost:8080/",
          "height": 1000
        }
      },
      "source": [
        "for _ in range(1):\n",
        "    learn = get_learn(model=model, size=128, bs=32, mixup=0.5)\n",
        "    learn.fit_fc(80, lr=4e-3, moms=(0.95,0.95), start_pct=0.72)"
      ],
      "execution_count": 0,
      "outputs": [
        {
          "output_type": "stream",
          "text": [
            "Downloading https://s3.amazonaws.com/fast-ai-imageclas/imagewoof2\n"
          ],
          "name": "stdout"
        },
        {
          "output_type": "display_data",
          "data": {
            "text/html": [
              ""
            ],
            "text/plain": [
              "<IPython.core.display.HTML object>"
            ]
          },
          "metadata": {
            "tags": []
          }
        },
        {
          "output_type": "stream",
          "text": [
            "data path   /root/.fastai/data/imagewoof2\n",
            "Learn path /root/.fastai/data/imagewoof2\n"
          ],
          "name": "stdout"
        },
        {
          "output_type": "display_data",
          "data": {
            "text/html": [
              "<table border=\"1\" class=\"dataframe\">\n",
              "  <thead>\n",
              "    <tr style=\"text-align: left;\">\n",
              "      <th>epoch</th>\n",
              "      <th>train_loss</th>\n",
              "      <th>valid_loss</th>\n",
              "      <th>accuracy</th>\n",
              "      <th>top_k_accuracy</th>\n",
              "      <th>time</th>\n",
              "    </tr>\n",
              "  </thead>\n",
              "  <tbody>\n",
              "    <tr>\n",
              "      <td>0</td>\n",
              "      <td>2.174184</td>\n",
              "      <td>1.920759</td>\n",
              "      <td>0.357852</td>\n",
              "      <td>0.845508</td>\n",
              "      <td>01:35</td>\n",
              "    </tr>\n",
              "    <tr>\n",
              "      <td>1</td>\n",
              "      <td>1.997055</td>\n",
              "      <td>1.762287</td>\n",
              "      <td>0.441079</td>\n",
              "      <td>0.894375</td>\n",
              "      <td>01:35</td>\n",
              "    </tr>\n",
              "    <tr>\n",
              "      <td>2</td>\n",
              "      <td>1.895067</td>\n",
              "      <td>1.564714</td>\n",
              "      <td>0.525834</td>\n",
              "      <td>0.914228</td>\n",
              "      <td>01:36</td>\n",
              "    </tr>\n",
              "    <tr>\n",
              "      <td>3</td>\n",
              "      <td>1.794292</td>\n",
              "      <td>1.440246</td>\n",
              "      <td>0.610588</td>\n",
              "      <td>0.936371</td>\n",
              "      <td>01:36</td>\n",
              "    </tr>\n",
              "    <tr>\n",
              "      <td>4</td>\n",
              "      <td>1.712571</td>\n",
              "      <td>1.328491</td>\n",
              "      <td>0.659710</td>\n",
              "      <td>0.950878</td>\n",
              "      <td>01:36</td>\n",
              "    </tr>\n",
              "    <tr>\n",
              "      <td>5</td>\n",
              "      <td>1.668134</td>\n",
              "      <td>1.268177</td>\n",
              "      <td>0.670654</td>\n",
              "      <td>0.955714</td>\n",
              "      <td>01:37</td>\n",
              "    </tr>\n",
              "    <tr>\n",
              "      <td>6</td>\n",
              "      <td>1.628677</td>\n",
              "      <td>1.221262</td>\n",
              "      <td>0.701960</td>\n",
              "      <td>0.960041</td>\n",
              "      <td>01:36</td>\n",
              "    </tr>\n",
              "    <tr>\n",
              "      <td>7</td>\n",
              "      <td>1.578143</td>\n",
              "      <td>1.178807</td>\n",
              "      <td>0.715958</td>\n",
              "      <td>0.961313</td>\n",
              "      <td>01:36</td>\n",
              "    </tr>\n",
              "    <tr>\n",
              "      <td>8</td>\n",
              "      <td>1.552206</td>\n",
              "      <td>1.150043</td>\n",
              "      <td>0.730975</td>\n",
              "      <td>0.963095</td>\n",
              "      <td>01:36</td>\n",
              "    </tr>\n",
              "    <tr>\n",
              "      <td>9</td>\n",
              "      <td>1.528476</td>\n",
              "      <td>1.098876</td>\n",
              "      <td>0.756681</td>\n",
              "      <td>0.961059</td>\n",
              "      <td>01:36</td>\n",
              "    </tr>\n",
              "    <tr>\n",
              "      <td>10</td>\n",
              "      <td>1.464294</td>\n",
              "      <td>1.109861</td>\n",
              "      <td>0.742428</td>\n",
              "      <td>0.966149</td>\n",
              "      <td>01:37</td>\n",
              "    </tr>\n",
              "    <tr>\n",
              "      <td>11</td>\n",
              "      <td>1.465191</td>\n",
              "      <td>1.092116</td>\n",
              "      <td>0.757699</td>\n",
              "      <td>0.967676</td>\n",
              "      <td>01:37</td>\n",
              "    </tr>\n",
              "    <tr>\n",
              "      <td>12</td>\n",
              "      <td>1.454803</td>\n",
              "      <td>1.050797</td>\n",
              "      <td>0.776024</td>\n",
              "      <td>0.970221</td>\n",
              "      <td>01:37</td>\n",
              "    </tr>\n",
              "    <tr>\n",
              "      <td>13</td>\n",
              "      <td>1.446913</td>\n",
              "      <td>1.009202</td>\n",
              "      <td>0.792568</td>\n",
              "      <td>0.978112</td>\n",
              "      <td>01:37</td>\n",
              "    </tr>\n",
              "    <tr>\n",
              "      <td>14</td>\n",
              "      <td>1.398267</td>\n",
              "      <td>1.010091</td>\n",
              "      <td>0.797658</td>\n",
              "      <td>0.978875</td>\n",
              "      <td>01:37</td>\n",
              "    </tr>\n",
              "    <tr>\n",
              "      <td>15</td>\n",
              "      <td>1.405871</td>\n",
              "      <td>1.014200</td>\n",
              "      <td>0.793332</td>\n",
              "      <td>0.974803</td>\n",
              "      <td>01:37</td>\n",
              "    </tr>\n",
              "    <tr>\n",
              "      <td>16</td>\n",
              "      <td>1.373694</td>\n",
              "      <td>0.991317</td>\n",
              "      <td>0.805039</td>\n",
              "      <td>0.978875</td>\n",
              "      <td>01:37</td>\n",
              "    </tr>\n",
              "    <tr>\n",
              "      <td>17</td>\n",
              "      <td>1.373006</td>\n",
              "      <td>0.976144</td>\n",
              "      <td>0.809366</td>\n",
              "      <td>0.974039</td>\n",
              "      <td>01:37</td>\n",
              "    </tr>\n",
              "    <tr>\n",
              "      <td>18</td>\n",
              "      <td>1.351942</td>\n",
              "      <td>0.960903</td>\n",
              "      <td>0.815984</td>\n",
              "      <td>0.976584</td>\n",
              "      <td>01:37</td>\n",
              "    </tr>\n",
              "    <tr>\n",
              "      <td>19</td>\n",
              "      <td>1.341792</td>\n",
              "      <td>0.931541</td>\n",
              "      <td>0.829473</td>\n",
              "      <td>0.979893</td>\n",
              "      <td>01:37</td>\n",
              "    </tr>\n",
              "    <tr>\n",
              "      <td>20</td>\n",
              "      <td>1.338074</td>\n",
              "      <td>0.960809</td>\n",
              "      <td>0.818529</td>\n",
              "      <td>0.977857</td>\n",
              "      <td>01:37</td>\n",
              "    </tr>\n",
              "    <tr>\n",
              "      <td>21</td>\n",
              "      <td>1.324072</td>\n",
              "      <td>0.952100</td>\n",
              "      <td>0.823110</td>\n",
              "      <td>0.979639</td>\n",
              "      <td>01:36</td>\n",
              "    </tr>\n",
              "    <tr>\n",
              "      <td>22</td>\n",
              "      <td>1.312964</td>\n",
              "      <td>0.938555</td>\n",
              "      <td>0.827691</td>\n",
              "      <td>0.978621</td>\n",
              "      <td>01:36</td>\n",
              "    </tr>\n",
              "    <tr>\n",
              "      <td>23</td>\n",
              "      <td>1.308324</td>\n",
              "      <td>0.944268</td>\n",
              "      <td>0.817511</td>\n",
              "      <td>0.978621</td>\n",
              "      <td>01:36</td>\n",
              "    </tr>\n",
              "    <tr>\n",
              "      <td>24</td>\n",
              "      <td>1.299922</td>\n",
              "      <td>0.938006</td>\n",
              "      <td>0.822601</td>\n",
              "      <td>0.981929</td>\n",
              "      <td>01:36</td>\n",
              "    </tr>\n",
              "    <tr>\n",
              "      <td>25</td>\n",
              "      <td>1.283261</td>\n",
              "      <td>0.928761</td>\n",
              "      <td>0.827691</td>\n",
              "      <td>0.980657</td>\n",
              "      <td>01:36</td>\n",
              "    </tr>\n",
              "    <tr>\n",
              "      <td>26</td>\n",
              "      <td>1.288123</td>\n",
              "      <td>0.913539</td>\n",
              "      <td>0.836600</td>\n",
              "      <td>0.982184</td>\n",
              "      <td>01:37</td>\n",
              "    </tr>\n",
              "    <tr>\n",
              "      <td>27</td>\n",
              "      <td>1.246031</td>\n",
              "      <td>0.917021</td>\n",
              "      <td>0.827946</td>\n",
              "      <td>0.980657</td>\n",
              "      <td>01:35</td>\n",
              "    </tr>\n",
              "    <tr>\n",
              "      <td>28</td>\n",
              "      <td>1.258645</td>\n",
              "      <td>0.899853</td>\n",
              "      <td>0.841435</td>\n",
              "      <td>0.980402</td>\n",
              "      <td>01:35</td>\n",
              "    </tr>\n",
              "    <tr>\n",
              "      <td>29</td>\n",
              "      <td>1.252021</td>\n",
              "      <td>0.908481</td>\n",
              "      <td>0.835073</td>\n",
              "      <td>0.977602</td>\n",
              "      <td>01:36</td>\n",
              "    </tr>\n",
              "    <tr>\n",
              "      <td>30</td>\n",
              "      <td>1.243693</td>\n",
              "      <td>0.916313</td>\n",
              "      <td>0.837109</td>\n",
              "      <td>0.979639</td>\n",
              "      <td>01:35</td>\n",
              "    </tr>\n",
              "    <tr>\n",
              "      <td>31</td>\n",
              "      <td>1.232102</td>\n",
              "      <td>0.917713</td>\n",
              "      <td>0.837363</td>\n",
              "      <td>0.976584</td>\n",
              "      <td>01:37</td>\n",
              "    </tr>\n",
              "    <tr>\n",
              "      <td>32</td>\n",
              "      <td>1.232911</td>\n",
              "      <td>0.899360</td>\n",
              "      <td>0.839908</td>\n",
              "      <td>0.980911</td>\n",
              "      <td>01:37</td>\n",
              "    </tr>\n",
              "    <tr>\n",
              "      <td>33</td>\n",
              "      <td>1.224626</td>\n",
              "      <td>0.896812</td>\n",
              "      <td>0.839145</td>\n",
              "      <td>0.978366</td>\n",
              "      <td>01:37</td>\n",
              "    </tr>\n",
              "    <tr>\n",
              "      <td>34</td>\n",
              "      <td>1.223596</td>\n",
              "      <td>0.909247</td>\n",
              "      <td>0.832018</td>\n",
              "      <td>0.979384</td>\n",
              "      <td>01:35</td>\n",
              "    </tr>\n",
              "    <tr>\n",
              "      <td>35</td>\n",
              "      <td>1.212413</td>\n",
              "      <td>0.935526</td>\n",
              "      <td>0.826928</td>\n",
              "      <td>0.979130</td>\n",
              "      <td>01:37</td>\n",
              "    </tr>\n",
              "    <tr>\n",
              "      <td>36</td>\n",
              "      <td>1.208900</td>\n",
              "      <td>0.890256</td>\n",
              "      <td>0.840163</td>\n",
              "      <td>0.979130</td>\n",
              "      <td>01:37</td>\n",
              "    </tr>\n",
              "    <tr>\n",
              "      <td>37</td>\n",
              "      <td>1.181682</td>\n",
              "      <td>0.884829</td>\n",
              "      <td>0.842708</td>\n",
              "      <td>0.981166</td>\n",
              "      <td>01:37</td>\n",
              "    </tr>\n",
              "    <tr>\n",
              "      <td>38</td>\n",
              "      <td>1.202367</td>\n",
              "      <td>0.913016</td>\n",
              "      <td>0.835073</td>\n",
              "      <td>0.979130</td>\n",
              "      <td>01:36</td>\n",
              "    </tr>\n",
              "    <tr>\n",
              "      <td>39</td>\n",
              "      <td>1.200599</td>\n",
              "      <td>0.926497</td>\n",
              "      <td>0.831509</td>\n",
              "      <td>0.974548</td>\n",
              "      <td>01:36</td>\n",
              "    </tr>\n",
              "    <tr>\n",
              "      <td>40</td>\n",
              "      <td>1.188042</td>\n",
              "      <td>0.889490</td>\n",
              "      <td>0.850598</td>\n",
              "      <td>0.980657</td>\n",
              "      <td>01:36</td>\n",
              "    </tr>\n",
              "    <tr>\n",
              "      <td>41</td>\n",
              "      <td>1.162050</td>\n",
              "      <td>0.903050</td>\n",
              "      <td>0.847035</td>\n",
              "      <td>0.975821</td>\n",
              "      <td>01:37</td>\n",
              "    </tr>\n",
              "    <tr>\n",
              "      <td>42</td>\n",
              "      <td>1.170213</td>\n",
              "      <td>0.887603</td>\n",
              "      <td>0.850598</td>\n",
              "      <td>0.980911</td>\n",
              "      <td>01:38</td>\n",
              "    </tr>\n",
              "    <tr>\n",
              "      <td>43</td>\n",
              "      <td>1.170960</td>\n",
              "      <td>0.875668</td>\n",
              "      <td>0.851107</td>\n",
              "      <td>0.982693</td>\n",
              "      <td>01:36</td>\n",
              "    </tr>\n",
              "    <tr>\n",
              "      <td>44</td>\n",
              "      <td>1.181872</td>\n",
              "      <td>0.912330</td>\n",
              "      <td>0.839908</td>\n",
              "      <td>0.977602</td>\n",
              "      <td>01:37</td>\n",
              "    </tr>\n",
              "    <tr>\n",
              "      <td>45</td>\n",
              "      <td>1.163545</td>\n",
              "      <td>0.895404</td>\n",
              "      <td>0.846526</td>\n",
              "      <td>0.978112</td>\n",
              "      <td>01:37</td>\n",
              "    </tr>\n",
              "    <tr>\n",
              "      <td>46</td>\n",
              "      <td>1.127801</td>\n",
              "      <td>0.889273</td>\n",
              "      <td>0.851362</td>\n",
              "      <td>0.980657</td>\n",
              "      <td>01:37</td>\n",
              "    </tr>\n",
              "    <tr>\n",
              "      <td>47</td>\n",
              "      <td>1.162805</td>\n",
              "      <td>0.908561</td>\n",
              "      <td>0.849580</td>\n",
              "      <td>0.973021</td>\n",
              "      <td>01:37</td>\n",
              "    </tr>\n",
              "    <tr>\n",
              "      <td>48</td>\n",
              "      <td>1.153940</td>\n",
              "      <td>0.880027</td>\n",
              "      <td>0.849835</td>\n",
              "      <td>0.978621</td>\n",
              "      <td>01:37</td>\n",
              "    </tr>\n",
              "    <tr>\n",
              "      <td>49</td>\n",
              "      <td>1.150097</td>\n",
              "      <td>0.878093</td>\n",
              "      <td>0.855943</td>\n",
              "      <td>0.978621</td>\n",
              "      <td>01:36</td>\n",
              "    </tr>\n",
              "    <tr>\n",
              "      <td>50</td>\n",
              "      <td>1.147092</td>\n",
              "      <td>0.876523</td>\n",
              "      <td>0.857470</td>\n",
              "      <td>0.978875</td>\n",
              "      <td>01:36</td>\n",
              "    </tr>\n",
              "    <tr>\n",
              "      <td>51</td>\n",
              "      <td>1.135194</td>\n",
              "      <td>0.917323</td>\n",
              "      <td>0.845508</td>\n",
              "      <td>0.977348</td>\n",
              "      <td>01:36</td>\n",
              "    </tr>\n",
              "    <tr>\n",
              "      <td>52</td>\n",
              "      <td>1.122269</td>\n",
              "      <td>0.873803</td>\n",
              "      <td>0.854161</td>\n",
              "      <td>0.980657</td>\n",
              "      <td>01:36</td>\n",
              "    </tr>\n",
              "    <tr>\n",
              "      <td>53</td>\n",
              "      <td>1.132156</td>\n",
              "      <td>0.877105</td>\n",
              "      <td>0.855943</td>\n",
              "      <td>0.976584</td>\n",
              "      <td>01:36</td>\n",
              "    </tr>\n",
              "    <tr>\n",
              "      <td>54</td>\n",
              "      <td>1.132922</td>\n",
              "      <td>0.878538</td>\n",
              "      <td>0.852125</td>\n",
              "      <td>0.978875</td>\n",
              "      <td>01:36</td>\n",
              "    </tr>\n",
              "    <tr>\n",
              "      <td>55</td>\n",
              "      <td>1.132750</td>\n",
              "      <td>0.891639</td>\n",
              "      <td>0.853907</td>\n",
              "      <td>0.979384</td>\n",
              "      <td>01:37</td>\n",
              "    </tr>\n",
              "    <tr>\n",
              "      <td>56</td>\n",
              "      <td>1.146101</td>\n",
              "      <td>0.893948</td>\n",
              "      <td>0.843217</td>\n",
              "      <td>0.975057</td>\n",
              "      <td>01:37</td>\n",
              "    </tr>\n",
              "    <tr>\n",
              "      <td>57</td>\n",
              "      <td>1.117794</td>\n",
              "      <td>0.894544</td>\n",
              "      <td>0.848817</td>\n",
              "      <td>0.976584</td>\n",
              "      <td>01:37</td>\n",
              "    </tr>\n",
              "    <tr>\n",
              "      <td>58</td>\n",
              "      <td>1.130360</td>\n",
              "      <td>0.908021</td>\n",
              "      <td>0.847035</td>\n",
              "      <td>0.975057</td>\n",
              "      <td>01:38</td>\n",
              "    </tr>\n",
              "    <tr>\n",
              "      <td>59</td>\n",
              "      <td>1.121134</td>\n",
              "      <td>0.882346</td>\n",
              "      <td>0.854925</td>\n",
              "      <td>0.975312</td>\n",
              "      <td>01:37</td>\n",
              "    </tr>\n",
              "    <tr>\n",
              "      <td>60</td>\n",
              "      <td>1.113029</td>\n",
              "      <td>0.875171</td>\n",
              "      <td>0.857216</td>\n",
              "      <td>0.977093</td>\n",
              "      <td>01:37</td>\n",
              "    </tr>\n",
              "    <tr>\n",
              "      <td>61</td>\n",
              "      <td>1.126009</td>\n",
              "      <td>0.871201</td>\n",
              "      <td>0.861288</td>\n",
              "      <td>0.978112</td>\n",
              "      <td>01:37</td>\n",
              "    </tr>\n",
              "    <tr>\n",
              "      <td>62</td>\n",
              "      <td>1.084029</td>\n",
              "      <td>0.879662</td>\n",
              "      <td>0.852380</td>\n",
              "      <td>0.977093</td>\n",
              "      <td>01:37</td>\n",
              "    </tr>\n",
              "    <tr>\n",
              "      <td>63</td>\n",
              "      <td>1.090217</td>\n",
              "      <td>0.866608</td>\n",
              "      <td>0.855943</td>\n",
              "      <td>0.982438</td>\n",
              "      <td>01:37</td>\n",
              "    </tr>\n",
              "    <tr>\n",
              "      <td>64</td>\n",
              "      <td>1.106987</td>\n",
              "      <td>0.862717</td>\n",
              "      <td>0.856197</td>\n",
              "      <td>0.981675</td>\n",
              "      <td>01:38</td>\n",
              "    </tr>\n",
              "    <tr>\n",
              "      <td>65</td>\n",
              "      <td>1.075651</td>\n",
              "      <td>0.847000</td>\n",
              "      <td>0.866124</td>\n",
              "      <td>0.979384</td>\n",
              "      <td>01:38</td>\n",
              "    </tr>\n",
              "    <tr>\n",
              "      <td>66</td>\n",
              "      <td>1.078789</td>\n",
              "      <td>0.845413</td>\n",
              "      <td>0.868414</td>\n",
              "      <td>0.978875</td>\n",
              "      <td>01:38</td>\n",
              "    </tr>\n",
              "    <tr>\n",
              "      <td>67</td>\n",
              "      <td>1.075509</td>\n",
              "      <td>0.852262</td>\n",
              "      <td>0.866633</td>\n",
              "      <td>0.977348</td>\n",
              "      <td>01:37</td>\n",
              "    </tr>\n",
              "    <tr>\n",
              "      <td>68</td>\n",
              "      <td>1.058753</td>\n",
              "      <td>0.848709</td>\n",
              "      <td>0.867396</td>\n",
              "      <td>0.979639</td>\n",
              "      <td>01:40</td>\n",
              "    </tr>\n",
              "    <tr>\n",
              "      <td>69</td>\n",
              "      <td>1.041590</td>\n",
              "      <td>0.829085</td>\n",
              "      <td>0.874777</td>\n",
              "      <td>0.977857</td>\n",
              "      <td>01:40</td>\n",
              "    </tr>\n",
              "    <tr>\n",
              "      <td>70</td>\n",
              "      <td>1.057148</td>\n",
              "      <td>0.819718</td>\n",
              "      <td>0.879104</td>\n",
              "      <td>0.980911</td>\n",
              "      <td>01:41</td>\n",
              "    </tr>\n",
              "    <tr>\n",
              "      <td>71</td>\n",
              "      <td>1.033598</td>\n",
              "      <td>0.830465</td>\n",
              "      <td>0.869687</td>\n",
              "      <td>0.978366</td>\n",
              "      <td>01:40</td>\n",
              "    </tr>\n",
              "    <tr>\n",
              "      <td>72</td>\n",
              "      <td>1.036579</td>\n",
              "      <td>0.817085</td>\n",
              "      <td>0.881140</td>\n",
              "      <td>0.979384</td>\n",
              "      <td>01:39</td>\n",
              "    </tr>\n",
              "    <tr>\n",
              "      <td>73</td>\n",
              "      <td>1.041737</td>\n",
              "      <td>0.820760</td>\n",
              "      <td>0.877322</td>\n",
              "      <td>0.981420</td>\n",
              "      <td>01:39</td>\n",
              "    </tr>\n",
              "    <tr>\n",
              "      <td>74</td>\n",
              "      <td>1.034711</td>\n",
              "      <td>0.812628</td>\n",
              "      <td>0.876559</td>\n",
              "      <td>0.983711</td>\n",
              "      <td>01:38</td>\n",
              "    </tr>\n",
              "    <tr>\n",
              "      <td>75</td>\n",
              "      <td>1.026287</td>\n",
              "      <td>0.812298</td>\n",
              "      <td>0.881140</td>\n",
              "      <td>0.980657</td>\n",
              "      <td>01:37</td>\n",
              "    </tr>\n",
              "    <tr>\n",
              "      <td>76</td>\n",
              "      <td>1.030514</td>\n",
              "      <td>0.813306</td>\n",
              "      <td>0.882667</td>\n",
              "      <td>0.982184</td>\n",
              "      <td>01:37</td>\n",
              "    </tr>\n",
              "    <tr>\n",
              "      <td>77</td>\n",
              "      <td>1.021799</td>\n",
              "      <td>0.807825</td>\n",
              "      <td>0.879104</td>\n",
              "      <td>0.982184</td>\n",
              "      <td>01:38</td>\n",
              "    </tr>\n",
              "    <tr>\n",
              "      <td>78</td>\n",
              "      <td>1.010880</td>\n",
              "      <td>0.810031</td>\n",
              "      <td>0.880886</td>\n",
              "      <td>0.981929</td>\n",
              "      <td>01:37</td>\n",
              "    </tr>\n",
              "    <tr>\n",
              "      <td>79</td>\n",
              "      <td>1.015906</td>\n",
              "      <td>0.808136</td>\n",
              "      <td>0.880886</td>\n",
              "      <td>0.982438</td>\n",
              "      <td>01:39</td>\n",
              "    </tr>\n",
              "  </tbody>\n",
              "</table>"
            ],
            "text/plain": [
              "<IPython.core.display.HTML object>"
            ]
          },
          "metadata": {
            "tags": []
          }
        }
      ]
    },
    {
      "cell_type": "code",
      "metadata": {
        "id": "pkZbqMCJak1p",
        "colab_type": "code",
        "outputId": "e3401d7f-0d7e-4369-cce3-ef1aa345a151",
        "colab": {
          "base_uri": "https://localhost:8080/",
          "height": 279
        }
      },
      "source": [
        "learn.recorder.plot_losses()"
      ],
      "execution_count": 0,
      "outputs": [
        {
          "output_type": "display_data",
          "data": {
            "image/png": "[encoded data removed]",
            "text/plain": [
              "<Figure size 432x288 with 1 Axes>"
            ]
          },
          "metadata": {
            "tags": [],
            "needs_background": "light"
          }
        }
      ]
    },
    {
      "cell_type": "code",
      "metadata": {
        "id": "RLUEMy2wBz18",
        "colab_type": "code",
        "outputId": "6949710b-f782-41a2-d564-e747e1064b31",
        "colab": {
          "base_uri": "https://localhost:8080/",
          "height": 680
        }
      },
      "source": [
        "for _ in range(3):\n",
        "    learn = get_learn(model=model, size=128, bs=32, mixup=0)\n",
        "    learn.fit_fc(5, lr=4e-3, moms=(0.95,0.95), start_pct=0.72)"
      ],
      "execution_count": 0,
      "outputs": [
        {
          "output_type": "stream",
          "text": [
            "data path   /root/.fastai/data/imagewoof2\n",
            "Learn path /root/.fastai/data/imagewoof2\n"
          ],
          "name": "stdout"
        },
        {
          "output_type": "display_data",
          "data": {
            "text/html": [
              "<table border=\"1\" class=\"dataframe\">\n",
              "  <thead>\n",
              "    <tr style=\"text-align: left;\">\n",
              "      <th>epoch</th>\n",
              "      <th>train_loss</th>\n",
              "      <th>valid_loss</th>\n",
              "      <th>accuracy</th>\n",
              "      <th>top_k_accuracy</th>\n",
              "      <th>time</th>\n",
              "    </tr>\n",
              "  </thead>\n",
              "  <tbody>\n",
              "    <tr>\n",
              "      <td>0</td>\n",
              "      <td>1.902802</td>\n",
              "      <td>1.813646</td>\n",
              "      <td>0.406719</td>\n",
              "      <td>0.886994</td>\n",
              "      <td>01:48</td>\n",
              "    </tr>\n",
              "    <tr>\n",
              "      <td>1</td>\n",
              "      <td>1.685970</td>\n",
              "      <td>1.553457</td>\n",
              "      <td>0.537032</td>\n",
              "      <td>0.928735</td>\n",
              "      <td>01:48</td>\n",
              "    </tr>\n",
              "    <tr>\n",
              "      <td>2</td>\n",
              "      <td>1.494283</td>\n",
              "      <td>1.428232</td>\n",
              "      <td>0.605498</td>\n",
              "      <td>0.944261</td>\n",
              "      <td>01:47</td>\n",
              "    </tr>\n",
              "    <tr>\n",
              "      <td>3</td>\n",
              "      <td>1.375602</td>\n",
              "      <td>1.260342</td>\n",
              "      <td>0.682871</td>\n",
              "      <td>0.955459</td>\n",
              "      <td>01:47</td>\n",
              "    </tr>\n",
              "    <tr>\n",
              "      <td>4</td>\n",
              "      <td>1.173522</td>\n",
              "      <td>1.112120</td>\n",
              "      <td>0.753627</td>\n",
              "      <td>0.970985</td>\n",
              "      <td>01:49</td>\n",
              "    </tr>\n",
              "  </tbody>\n",
              "</table>"
            ],
            "text/plain": [
              "<IPython.core.display.HTML object>"
            ]
          },
          "metadata": {
            "tags": []
          }
        },
        {
          "output_type": "stream",
          "text": [
            "data path   /root/.fastai/data/imagewoof2\n",
            "Learn path /root/.fastai/data/imagewoof2\n"
          ],
          "name": "stdout"
        },
        {
          "output_type": "display_data",
          "data": {
            "text/html": [
              "<table border=\"1\" class=\"dataframe\">\n",
              "  <thead>\n",
              "    <tr style=\"text-align: left;\">\n",
              "      <th>epoch</th>\n",
              "      <th>train_loss</th>\n",
              "      <th>valid_loss</th>\n",
              "      <th>accuracy</th>\n",
              "      <th>top_k_accuracy</th>\n",
              "      <th>time</th>\n",
              "    </tr>\n",
              "  </thead>\n",
              "  <tbody>\n",
              "    <tr>\n",
              "      <td>0</td>\n",
              "      <td>1.883435</td>\n",
              "      <td>1.821366</td>\n",
              "      <td>0.416645</td>\n",
              "      <td>0.876050</td>\n",
              "      <td>01:48</td>\n",
              "    </tr>\n",
              "    <tr>\n",
              "      <td>1</td>\n",
              "      <td>1.636686</td>\n",
              "      <td>1.559664</td>\n",
              "      <td>0.541868</td>\n",
              "      <td>0.924408</td>\n",
              "      <td>01:48</td>\n",
              "    </tr>\n",
              "    <tr>\n",
              "      <td>2</td>\n",
              "      <td>1.481322</td>\n",
              "      <td>1.386785</td>\n",
              "      <td>0.622805</td>\n",
              "      <td>0.946551</td>\n",
              "      <td>01:48</td>\n",
              "    </tr>\n",
              "    <tr>\n",
              "      <td>3</td>\n",
              "      <td>1.351673</td>\n",
              "      <td>1.243179</td>\n",
              "      <td>0.689234</td>\n",
              "      <td>0.960041</td>\n",
              "      <td>01:48</td>\n",
              "    </tr>\n",
              "    <tr>\n",
              "      <td>4</td>\n",
              "      <td>1.138180</td>\n",
              "      <td>1.096480</td>\n",
              "      <td>0.758463</td>\n",
              "      <td>0.973530</td>\n",
              "      <td>01:48</td>\n",
              "    </tr>\n",
              "  </tbody>\n",
              "</table>"
            ],
            "text/plain": [
              "<IPython.core.display.HTML object>"
            ]
          },
          "metadata": {
            "tags": []
          }
        },
        {
          "output_type": "stream",
          "text": [
            "data path   /root/.fastai/data/imagewoof2\n",
            "Learn path /root/.fastai/data/imagewoof2\n"
          ],
          "name": "stdout"
        },
        {
          "output_type": "display_data",
          "data": {
            "text/html": [
              "<table border=\"1\" class=\"dataframe\">\n",
              "  <thead>\n",
              "    <tr style=\"text-align: left;\">\n",
              "      <th>epoch</th>\n",
              "      <th>train_loss</th>\n",
              "      <th>valid_loss</th>\n",
              "      <th>accuracy</th>\n",
              "      <th>top_k_accuracy</th>\n",
              "      <th>time</th>\n",
              "    </tr>\n",
              "  </thead>\n",
              "  <tbody>\n",
              "    <tr>\n",
              "      <td>0</td>\n",
              "      <td>1.874111</td>\n",
              "      <td>1.813027</td>\n",
              "      <td>0.425554</td>\n",
              "      <td>0.892594</td>\n",
              "      <td>01:48</td>\n",
              "    </tr>\n",
              "    <tr>\n",
              "      <td>1</td>\n",
              "      <td>1.621625</td>\n",
              "      <td>1.545134</td>\n",
              "      <td>0.546449</td>\n",
              "      <td>0.925935</td>\n",
              "      <td>01:48</td>\n",
              "    </tr>\n",
              "    <tr>\n",
              "      <td>2</td>\n",
              "      <td>1.462013</td>\n",
              "      <td>1.387566</td>\n",
              "      <td>0.622805</td>\n",
              "      <td>0.942988</td>\n",
              "      <td>01:49</td>\n",
              "    </tr>\n",
              "    <tr>\n",
              "      <td>3</td>\n",
              "      <td>1.322632</td>\n",
              "      <td>1.246927</td>\n",
              "      <td>0.690252</td>\n",
              "      <td>0.959532</td>\n",
              "      <td>01:49</td>\n",
              "    </tr>\n",
              "    <tr>\n",
              "      <td>4</td>\n",
              "      <td>1.146231</td>\n",
              "      <td>1.085694</td>\n",
              "      <td>0.760499</td>\n",
              "      <td>0.975566</td>\n",
              "      <td>01:49</td>\n",
              "    </tr>\n",
              "  </tbody>\n",
              "</table>"
            ],
            "text/plain": [
              "<IPython.core.display.HTML object>"
            ]
          },
          "metadata": {
            "tags": []
          }
        }
      ]
    },
    {
      "cell_type": "code",
      "metadata": {
        "id": "7WozoAkNP5xK",
        "colab_type": "code",
        "outputId": "3b479381-7400-4cae-cb66-92db929c9839",
        "colab": {
          "base_uri": "https://localhost:8080/",
          "height": 833
        }
      },
      "source": [
        "for name, param in learn.model.body.named_parameters():\n",
        "    if 'ConvTwist' in name:\n",
        "        print(name, param.size())"
      ],
      "execution_count": 0,
      "outputs": [
        {
          "output_type": "stream",
          "text": [
            "l_0.bl_0.convs.conv_1.ConvTwist.conv.weight torch.Size([64, 8, 3, 3])\n",
            "l_0.bl_0.convs.conv_1.ConvTwist.conv_x.weight torch.Size([64, 8, 3, 3])\n",
            "l_0.bl_0.convs.conv_1.ConvTwist.conv_y.weight torch.Size([64, 8, 3, 3])\n",
            "l_0.bl_1.convs.conv_1.ConvTwist.conv.weight torch.Size([64, 8, 3, 3])\n",
            "l_0.bl_1.convs.conv_1.ConvTwist.conv_x.weight torch.Size([64, 8, 3, 3])\n",
            "l_0.bl_1.convs.conv_1.ConvTwist.conv_y.weight torch.Size([64, 8, 3, 3])\n",
            "l_0.bl_2.convs.conv_1.ConvTwist.conv.weight torch.Size([64, 8, 3, 3])\n",
            "l_0.bl_2.convs.conv_1.ConvTwist.conv_x.weight torch.Size([64, 8, 3, 3])\n",
            "l_0.bl_2.convs.conv_1.ConvTwist.conv_y.weight torch.Size([64, 8, 3, 3])\n",
            "l_1.bl_0.convs.conv_1.ConvTwist.conv.weight torch.Size([128, 8, 3, 3])\n",
            "l_1.bl_0.convs.conv_1.ConvTwist.conv_x.weight torch.Size([128, 8, 3, 3])\n",
            "l_1.bl_0.convs.conv_1.ConvTwist.conv_y.weight torch.Size([128, 8, 3, 3])\n",
            "l_1.bl_1.convs.conv_1.ConvTwist.conv.weight torch.Size([128, 8, 3, 3])\n",
            "l_1.bl_1.convs.conv_1.ConvTwist.conv_x.weight torch.Size([128, 8, 3, 3])\n",
            "l_1.bl_1.convs.conv_1.ConvTwist.conv_y.weight torch.Size([128, 8, 3, 3])\n",
            "l_1.bl_2.convs.conv_1.ConvTwist.conv.weight torch.Size([128, 8, 3, 3])\n",
            "l_1.bl_2.convs.conv_1.ConvTwist.conv_x.weight torch.Size([128, 8, 3, 3])\n",
            "l_1.bl_2.convs.conv_1.ConvTwist.conv_y.weight torch.Size([128, 8, 3, 3])\n",
            "l_1.bl_3.convs.conv_1.ConvTwist.conv.weight torch.Size([128, 8, 3, 3])\n",
            "l_1.bl_3.convs.conv_1.ConvTwist.conv_x.weight torch.Size([128, 8, 3, 3])\n",
            "l_1.bl_3.convs.conv_1.ConvTwist.conv_y.weight torch.Size([128, 8, 3, 3])\n",
            "l_2.bl_0.convs.conv_1.ConvTwist.conv.weight torch.Size([256, 8, 3, 3])\n",
            "l_2.bl_0.convs.conv_1.ConvTwist.conv_x.weight torch.Size([256, 8, 3, 3])\n",
            "l_2.bl_0.convs.conv_1.ConvTwist.conv_y.weight torch.Size([256, 8, 3, 3])\n",
            "l_2.bl_1.convs.conv_1.ConvTwist.conv.weight torch.Size([256, 8, 3, 3])\n",
            "l_2.bl_1.convs.conv_1.ConvTwist.conv_x.weight torch.Size([256, 8, 3, 3])\n",
            "l_2.bl_1.convs.conv_1.ConvTwist.conv_y.weight torch.Size([256, 8, 3, 3])\n",
            "l_2.bl_2.convs.conv_1.ConvTwist.conv.weight torch.Size([256, 8, 3, 3])\n",
            "l_2.bl_2.convs.conv_1.ConvTwist.conv_x.weight torch.Size([256, 8, 3, 3])\n",
            "l_2.bl_2.convs.conv_1.ConvTwist.conv_y.weight torch.Size([256, 8, 3, 3])\n",
            "l_2.bl_3.convs.conv_1.ConvTwist.conv.weight torch.Size([256, 8, 3, 3])\n",
            "l_2.bl_3.convs.conv_1.ConvTwist.conv_x.weight torch.Size([256, 8, 3, 3])\n",
            "l_2.bl_3.convs.conv_1.ConvTwist.conv_y.weight torch.Size([256, 8, 3, 3])\n",
            "l_2.bl_4.convs.conv_1.ConvTwist.conv.weight torch.Size([256, 8, 3, 3])\n",
            "l_2.bl_4.convs.conv_1.ConvTwist.conv_x.weight torch.Size([256, 8, 3, 3])\n",
            "l_2.bl_4.convs.conv_1.ConvTwist.conv_y.weight torch.Size([256, 8, 3, 3])\n",
            "l_2.bl_5.convs.conv_1.ConvTwist.conv.weight torch.Size([256, 8, 3, 3])\n",
            "l_2.bl_5.convs.conv_1.ConvTwist.conv_x.weight torch.Size([256, 8, 3, 3])\n",
            "l_2.bl_5.convs.conv_1.ConvTwist.conv_y.weight torch.Size([256, 8, 3, 3])\n",
            "l_3.bl_0.convs.conv_1.ConvTwist.conv.weight torch.Size([512, 8, 3, 3])\n",
            "l_3.bl_0.convs.conv_1.ConvTwist.conv_x.weight torch.Size([512, 8, 3, 3])\n",
            "l_3.bl_0.convs.conv_1.ConvTwist.conv_y.weight torch.Size([512, 8, 3, 3])\n",
            "l_3.bl_1.convs.conv_1.ConvTwist.conv.weight torch.Size([512, 8, 3, 3])\n",
            "l_3.bl_1.convs.conv_1.ConvTwist.conv_x.weight torch.Size([512, 8, 3, 3])\n",
            "l_3.bl_1.convs.conv_1.ConvTwist.conv_y.weight torch.Size([512, 8, 3, 3])\n",
            "l_3.bl_2.convs.conv_1.ConvTwist.conv.weight torch.Size([512, 8, 3, 3])\n",
            "l_3.bl_2.convs.conv_1.ConvTwist.conv_x.weight torch.Size([512, 8, 3, 3])\n",
            "l_3.bl_2.convs.conv_1.ConvTwist.conv_y.weight torch.Size([512, 8, 3, 3])\n"
          ],
          "name": "stdout"
        }
      ]
    },
    {
      "cell_type": "code",
      "metadata": {
        "id": "1DzJG9di4SWG",
        "colab_type": "code",
        "outputId": "96fc037d-303f-44c0-9e9b-6ef389a3e75d",
        "colab": {
          "base_uri": "https://localhost:8080/",
          "height": 1000
        }
      },
      "source": [
        "for i in range(80):\n",
        "    print('epoch {} {}'.format(i, learn.recorder.metrics[i][0].item()))"
      ],
      "execution_count": 0,
      "outputs": [
        {
          "output_type": "stream",
          "text": [
            "epoch 0 0.3866123557090759\n",
            "epoch 1 0.4499872624874115\n",
            "epoch 2 0.5008907914161682\n",
            "epoch 3 0.5970984697341919\n",
            "epoch 4 0.6304402947425842\n",
            "epoch 5 0.6688724756240845\n",
            "epoch 6 0.6986510753631592\n",
            "epoch 7 0.7327564358711243\n",
            "epoch 8 0.7401374578475952\n",
            "epoch 9 0.768134355545044\n",
            "epoch 10 0.7643166184425354\n",
            "epoch 11 0.7688979506492615\n",
            "epoch 12 0.7673708200454712\n",
            "epoch 13 0.7956222891807556\n",
            "epoch 14 0.7930771112442017\n",
            "epoch 15 0.814202070236206\n",
            "epoch 16 0.8058030009269714\n",
            "epoch 17 0.8180198669433594\n",
            "epoch 18 0.8024942874908447\n",
            "epoch 19 0.8170017600059509\n",
            "epoch 20 0.8088572025299072\n",
            "epoch 21 0.8198014497756958\n",
            "epoch 22 0.8213285803794861\n",
            "epoch 23 0.8187834024429321\n",
            "epoch 24 0.8282005786895752\n",
            "epoch 25 0.828964114189148\n",
            "epoch 26 0.8261644244194031\n",
            "epoch 27 0.8139475584030151\n",
            "epoch 28 0.836090624332428\n",
            "epoch 29 0.8332909345626831\n",
            "epoch 30 0.8340544700622559\n",
            "epoch 31 0.8345634937286377\n",
            "epoch 32 0.833545446395874\n",
            "epoch 33 0.8368541598320007\n",
            "epoch 34 0.8381267786026001\n",
            "epoch 35 0.8294731378555298\n",
            "epoch 36 0.8294731378555298\n",
            "epoch 37 0.8452532291412354\n",
            "epoch 38 0.833545446395874\n",
            "epoch 39 0.8315092921257019\n",
            "epoch 40 0.8429625630378723\n",
            "epoch 41 0.8432170748710632\n",
            "epoch 42 0.8299821615219116\n",
            "epoch 43 0.8526342511177063\n",
            "epoch 44 0.8388903141021729\n",
            "epoch 45 0.836090624332428\n",
            "epoch 46 0.8457622528076172\n",
            "epoch 47 0.8401628732681274\n",
            "epoch 48 0.8505980968475342\n",
            "epoch 49 0.8421990275382996\n",
            "epoch 50 0.8404173851013184\n",
            "epoch 51 0.8414354920387268\n",
            "epoch 52 0.838381290435791\n",
            "epoch 53 0.8513616919517517\n",
            "epoch 54 0.838381290435791\n",
            "epoch 55 0.8505980968475342\n",
            "epoch 56 0.8444896936416626\n",
            "epoch 57 0.8419445157051086\n",
            "epoch 58 0.8477984070777893\n",
            "epoch 59 0.8526342511177063\n",
            "epoch 60 0.8442351818084717\n",
            "epoch 61 0.8455077409744263\n",
            "epoch 62 0.8480529189109802\n",
            "epoch 63 0.8414354920387268\n",
            "epoch 64 0.8546704053878784\n",
            "epoch 65 0.8541613817214966\n",
            "epoch 66 0.8505980968475342\n",
            "epoch 67 0.8651056289672852\n",
            "epoch 68 0.8635784983634949\n",
            "epoch 69 0.868159830570221\n",
            "epoch 70 0.8653601408004761\n",
            "epoch 71 0.8673962950706482\n",
            "epoch 72 0.8750318288803101\n",
            "epoch 73 0.8757953643798828\n",
            "epoch 74 0.8793585896492004\n",
            "epoch 75 0.8791040778160095\n",
            "epoch 76 0.8785950541496277\n",
            "epoch 77 0.8796131610870361\n",
            "epoch 78 0.8803766965866089\n",
            "epoch 79 0.8788495659828186\n"
          ],
          "name": "stdout"
        }
      ]
    },
    {
      "cell_type": "code",
      "metadata": {
        "id": "D9TIwOqQBz2G",
        "colab_type": "code",
        "outputId": "8d48fb60-dae3-4431-e6d7-97471eb18a96",
        "colab": {
          "base_uri": "https://localhost:8080/",
          "height": 499
        }
      },
      "source": [
        "learn.recorder.plot_metrics()"
      ],
      "execution_count": 0,
      "outputs": [
        {
          "output_type": "display_data",
          "data": {
            "image/png": "[encoded data removed]",
            "text/plain": [
              "<Figure size 432x576 with 2 Axes>"
            ]
          },
          "metadata": {
            "tags": [],
            "needs_background": "light"
          }
        }
      ]
    }
  ]
}