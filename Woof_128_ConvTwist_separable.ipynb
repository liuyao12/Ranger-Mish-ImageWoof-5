{
  "nbformat": 4,
  "nbformat_minor": 0,
  "metadata": {
    "kernelspec": {
      "name": "python3",
      "display_name": "Python 3"
    },
    "colab": {
      "name": "Woof_128_twist.ipynb",
      "provenance": [],
      "collapsed_sections": [
        "LP3vVSWMBz1L",
        "6C-1pE45Bz1l",
        "pLmt0ISPBz2w"
      ],
      "include_colab_link": true
    },
    "accelerator": "GPU"
  },
  "cells": [
    {
      "cell_type": "markdown",
      "metadata": {
        "id": "view-in-github",
        "colab_type": "text"
      },
      "source": [
        "<a href=\"https://colab.research.google.com/github/liuyao12/Ranger-Mish-ImageWoof-5/blob/master/Woof_128_ConvTwist_separable.ipynb\" target=\"_parent\"><img src=\"https://colab.research.google.com/assets/colab-badge.svg\" alt=\"Open In Colab\"/></a>"
      ]
    },
    {
      "cell_type": "markdown",
      "metadata": {
        "id": "GM0cNcW2Bzz4",
        "colab_type": "text"
      },
      "source": [
        "# ResNet with a Twist\n",
        "\n",
        "> ConvTwist + Ranger + Mish + MaxBlurPool + restrick"
      ]
    },
    {
      "cell_type": "markdown",
      "metadata": {
        "id": "DrD1-te_Bzz7",
        "colab_type": "text"
      },
      "source": [
        "# setup and imports"
      ]
    },
    {
      "cell_type": "code",
      "metadata": {
        "id": "jtfoQmHrJonm",
        "colab_type": "code",
        "colab": {}
      },
      "source": [
        "# pip install git+https://github.com/kornia/kornia"
      ],
      "execution_count": null,
      "outputs": []
    },
    {
      "cell_type": "code",
      "metadata": {
        "id": "UteAROmqBzz9",
        "colab_type": "code",
        "colab": {
          "base_uri": "https://localhost:8080/",
          "height": 275
        },
        "outputId": "2c8f5258-00bf-4432-ca41-72f3c8230acc"
      },
      "source": [
        "pip install git+https://github.com/ayasyrev/model_constructor"
      ],
      "execution_count": 1,
      "outputs": [
        {
          "output_type": "stream",
          "text": [
            "Collecting git+https://github.com/ayasyrev/model_constructor\n",
            "  Cloning https://github.com/ayasyrev/model_constructor to /tmp/pip-req-build-n7q_getx\n",
            "  Running command git clone -q https://github.com/ayasyrev/model_constructor /tmp/pip-req-build-n7q_getx\n",
            "Requirement already satisfied (use --upgrade to upgrade): model-constructor==0.1.1 from git+https://github.com/ayasyrev/model_constructor in /usr/local/lib/python3.6/dist-packages\n",
            "Requirement already satisfied: fastcore in /usr/local/lib/python3.6/dist-packages (from model-constructor==0.1.1) (0.1.18)\n",
            "Requirement already satisfied: torch in /usr/local/lib/python3.6/dist-packages (from model-constructor==0.1.1) (1.5.1+cu101)\n",
            "Requirement already satisfied: numpy in /usr/local/lib/python3.6/dist-packages (from fastcore->model-constructor==0.1.1) (1.18.5)\n",
            "Requirement already satisfied: dataclasses>='0.7'; python_version < \"3.7\" in /usr/local/lib/python3.6/dist-packages (from fastcore->model-constructor==0.1.1) (0.7)\n",
            "Requirement already satisfied: future in /usr/local/lib/python3.6/dist-packages (from torch->model-constructor==0.1.1) (0.16.0)\n",
            "Building wheels for collected packages: model-constructor\n",
            "  Building wheel for model-constructor (setup.py) ... \u001b[?25l\u001b[?25hdone\n",
            "  Created wheel for model-constructor: filename=model_constructor-0.1.1-cp36-none-any.whl size=23583 sha256=095ed9cde91a1dd606fc81aad97bc83ddee1f413ade69ca5dfbd070ee8478abe\n",
            "  Stored in directory: /tmp/pip-ephem-wheel-cache-5r5ze76_/wheels/5b/92/65/8093a307d5802f41f4a8776b40bc12b558e75a2a906ae8b683\n",
            "Successfully built model-constructor\n"
          ],
          "name": "stdout"
        }
      ]
    },
    {
      "cell_type": "code",
      "metadata": {
        "colab_type": "code",
        "id": "XnsPVNrkTfV3",
        "colab": {
          "base_uri": "https://localhost:8080/",
          "height": 955
        },
        "outputId": "fb8f4ee0-4961-4690-d5d5-7a01263644da"
      },
      "source": [
        "pip install git+https://github.com/ayasyrev/imagenette_experiments"
      ],
      "execution_count": 2,
      "outputs": [
        {
          "output_type": "stream",
          "text": [
            "Collecting git+https://github.com/ayasyrev/imagenette_experiments\n",
            "  Cloning https://github.com/ayasyrev/imagenette_experiments to /tmp/pip-req-build-ugymc47w\n",
            "  Running command git clone -q https://github.com/ayasyrev/imagenette_experiments /tmp/pip-req-build-ugymc47w\n",
            "Requirement already satisfied (use --upgrade to upgrade): imagenette-experiments==0.0.1 from git+https://github.com/ayasyrev/imagenette_experiments in /usr/local/lib/python3.6/dist-packages\n",
            "Requirement already satisfied: fastai in /usr/local/lib/python3.6/dist-packages (from imagenette-experiments==0.0.1) (1.0.61)\n",
            "Requirement already satisfied: kornia in /usr/local/lib/python3.6/dist-packages (from imagenette-experiments==0.0.1) (0.3.1)\n",
            "Requirement already satisfied: model-constructor in /usr/local/lib/python3.6/dist-packages (from imagenette-experiments==0.0.1) (0.1.1)\n",
            "Requirement already satisfied: Pillow in /usr/local/lib/python3.6/dist-packages (from fastai->imagenette-experiments==0.0.1) (7.0.0)\n",
            "Requirement already satisfied: dataclasses; python_version < \"3.7\" in /usr/local/lib/python3.6/dist-packages (from fastai->imagenette-experiments==0.0.1) (0.7)\n",
            "Requirement already satisfied: numexpr in /usr/local/lib/python3.6/dist-packages (from fastai->imagenette-experiments==0.0.1) (2.7.1)\n",
            "Requirement already satisfied: scipy in /usr/local/lib/python3.6/dist-packages (from fastai->imagenette-experiments==0.0.1) (1.4.1)\n",
            "Requirement already satisfied: fastprogress>=0.2.1 in /usr/local/lib/python3.6/dist-packages (from fastai->imagenette-experiments==0.0.1) (0.2.3)\n",
            "Requirement already satisfied: torch>=1.0.0 in /usr/local/lib/python3.6/dist-packages (from fastai->imagenette-experiments==0.0.1) (1.5.1+cu101)\n",
            "Requirement already satisfied: spacy>=2.0.18; python_version < \"3.8\" in /usr/local/lib/python3.6/dist-packages (from fastai->imagenette-experiments==0.0.1) (2.2.4)\n",
            "Requirement already satisfied: bottleneck in /usr/local/lib/python3.6/dist-packages (from fastai->imagenette-experiments==0.0.1) (1.3.2)\n",
            "Requirement already satisfied: matplotlib in /usr/local/lib/python3.6/dist-packages (from fastai->imagenette-experiments==0.0.1) (3.2.2)\n",
            "Requirement already satisfied: pyyaml in /usr/local/lib/python3.6/dist-packages (from fastai->imagenette-experiments==0.0.1) (3.13)\n",
            "Requirement already satisfied: pandas in /usr/local/lib/python3.6/dist-packages (from fastai->imagenette-experiments==0.0.1) (1.0.5)\n",
            "Requirement already satisfied: beautifulsoup4 in /usr/local/lib/python3.6/dist-packages (from fastai->imagenette-experiments==0.0.1) (4.6.3)\n",
            "Requirement already satisfied: requests in /usr/local/lib/python3.6/dist-packages (from fastai->imagenette-experiments==0.0.1) (2.23.0)\n",
            "Requirement already satisfied: torchvision in /usr/local/lib/python3.6/dist-packages (from fastai->imagenette-experiments==0.0.1) (0.6.1+cu101)\n",
            "Requirement already satisfied: numpy>=1.15 in /usr/local/lib/python3.6/dist-packages (from fastai->imagenette-experiments==0.0.1) (1.18.5)\n",
            "Requirement already satisfied: packaging in /usr/local/lib/python3.6/dist-packages (from fastai->imagenette-experiments==0.0.1) (20.4)\n",
            "Requirement already satisfied: nvidia-ml-py3 in /usr/local/lib/python3.6/dist-packages (from fastai->imagenette-experiments==0.0.1) (7.352.0)\n",
            "Requirement already satisfied: fastcore in /usr/local/lib/python3.6/dist-packages (from model-constructor->imagenette-experiments==0.0.1) (0.1.18)\n",
            "Requirement already satisfied: future in /usr/local/lib/python3.6/dist-packages (from torch>=1.0.0->fastai->imagenette-experiments==0.0.1) (0.16.0)\n",
            "Requirement already satisfied: cymem<2.1.0,>=2.0.2 in /usr/local/lib/python3.6/dist-packages (from spacy>=2.0.18; python_version < \"3.8\"->fastai->imagenette-experiments==0.0.1) (2.0.3)\n",
            "Requirement already satisfied: srsly<1.1.0,>=1.0.2 in /usr/local/lib/python3.6/dist-packages (from spacy>=2.0.18; python_version < \"3.8\"->fastai->imagenette-experiments==0.0.1) (1.0.2)\n",
            "Requirement already satisfied: setuptools in /usr/local/lib/python3.6/dist-packages (from spacy>=2.0.18; python_version < \"3.8\"->fastai->imagenette-experiments==0.0.1) (47.3.1)\n",
            "Requirement already satisfied: thinc==7.4.0 in /usr/local/lib/python3.6/dist-packages (from spacy>=2.0.18; python_version < \"3.8\"->fastai->imagenette-experiments==0.0.1) (7.4.0)\n",
            "Requirement already satisfied: wasabi<1.1.0,>=0.4.0 in /usr/local/lib/python3.6/dist-packages (from spacy>=2.0.18; python_version < \"3.8\"->fastai->imagenette-experiments==0.0.1) (0.6.0)\n",
            "Requirement already satisfied: tqdm<5.0.0,>=4.38.0 in /usr/local/lib/python3.6/dist-packages (from spacy>=2.0.18; python_version < \"3.8\"->fastai->imagenette-experiments==0.0.1) (4.41.1)\n",
            "Requirement already satisfied: murmurhash<1.1.0,>=0.28.0 in /usr/local/lib/python3.6/dist-packages (from spacy>=2.0.18; python_version < \"3.8\"->fastai->imagenette-experiments==0.0.1) (1.0.2)\n",
            "Requirement already satisfied: plac<1.2.0,>=0.9.6 in /usr/local/lib/python3.6/dist-packages (from spacy>=2.0.18; python_version < \"3.8\"->fastai->imagenette-experiments==0.0.1) (1.1.3)\n",
            "Requirement already satisfied: catalogue<1.1.0,>=0.0.7 in /usr/local/lib/python3.6/dist-packages (from spacy>=2.0.18; python_version < \"3.8\"->fastai->imagenette-experiments==0.0.1) (1.0.0)\n",
            "Requirement already satisfied: preshed<3.1.0,>=3.0.2 in /usr/local/lib/python3.6/dist-packages (from spacy>=2.0.18; python_version < \"3.8\"->fastai->imagenette-experiments==0.0.1) (3.0.2)\n",
            "Requirement already satisfied: blis<0.5.0,>=0.4.0 in /usr/local/lib/python3.6/dist-packages (from spacy>=2.0.18; python_version < \"3.8\"->fastai->imagenette-experiments==0.0.1) (0.4.1)\n",
            "Requirement already satisfied: kiwisolver>=1.0.1 in /usr/local/lib/python3.6/dist-packages (from matplotlib->fastai->imagenette-experiments==0.0.1) (1.2.0)\n",
            "Requirement already satisfied: cycler>=0.10 in /usr/local/lib/python3.6/dist-packages (from matplotlib->fastai->imagenette-experiments==0.0.1) (0.10.0)\n",
            "Requirement already satisfied: pyparsing!=2.0.4,!=2.1.2,!=2.1.6,>=2.0.1 in /usr/local/lib/python3.6/dist-packages (from matplotlib->fastai->imagenette-experiments==0.0.1) (2.4.7)\n",
            "Requirement already satisfied: python-dateutil>=2.1 in /usr/local/lib/python3.6/dist-packages (from matplotlib->fastai->imagenette-experiments==0.0.1) (2.8.1)\n",
            "Requirement already satisfied: pytz>=2017.2 in /usr/local/lib/python3.6/dist-packages (from pandas->fastai->imagenette-experiments==0.0.1) (2018.9)\n",
            "Requirement already satisfied: urllib3!=1.25.0,!=1.25.1,<1.26,>=1.21.1 in /usr/local/lib/python3.6/dist-packages (from requests->fastai->imagenette-experiments==0.0.1) (1.24.3)\n",
            "Requirement already satisfied: certifi>=2017.4.17 in /usr/local/lib/python3.6/dist-packages (from requests->fastai->imagenette-experiments==0.0.1) (2020.4.5.2)\n",
            "Requirement already satisfied: chardet<4,>=3.0.2 in /usr/local/lib/python3.6/dist-packages (from requests->fastai->imagenette-experiments==0.0.1) (3.0.4)\n",
            "Requirement already satisfied: idna<3,>=2.5 in /usr/local/lib/python3.6/dist-packages (from requests->fastai->imagenette-experiments==0.0.1) (2.9)\n",
            "Requirement already satisfied: six in /usr/local/lib/python3.6/dist-packages (from packaging->fastai->imagenette-experiments==0.0.1) (1.12.0)\n",
            "Requirement already satisfied: importlib-metadata>=0.20; python_version < \"3.8\" in /usr/local/lib/python3.6/dist-packages (from catalogue<1.1.0,>=0.0.7->spacy>=2.0.18; python_version < \"3.8\"->fastai->imagenette-experiments==0.0.1) (1.6.1)\n",
            "Requirement already satisfied: zipp>=0.5 in /usr/local/lib/python3.6/dist-packages (from importlib-metadata>=0.20; python_version < \"3.8\"->catalogue<1.1.0,>=0.0.7->spacy>=2.0.18; python_version < \"3.8\"->fastai->imagenette-experiments==0.0.1) (3.1.0)\n",
            "Building wheels for collected packages: imagenette-experiments\n",
            "  Building wheel for imagenette-experiments (setup.py) ... \u001b[?25l\u001b[?25hdone\n",
            "  Created wheel for imagenette-experiments: filename=imagenette_experiments-0.0.1-cp36-none-any.whl size=15332 sha256=964960da796fdcd2278d1d87e300a51a81bef9cc13eefee74bdd669d03fd519e\n",
            "  Stored in directory: /tmp/pip-ephem-wheel-cache-0e15nshs/wheels/af/99/98/2212941f45a18bf6d191f56c39e3569138414560c76defc0d4\n",
            "Successfully built imagenette-experiments\n"
          ],
          "name": "stdout"
        }
      ]
    },
    {
      "cell_type": "code",
      "metadata": {
        "id": "K-OCjxGCBz0J",
        "colab_type": "code",
        "colab": {}
      },
      "source": [
        "from imagenette_experiments.train_utils import *"
      ],
      "execution_count": 3,
      "outputs": []
    },
    {
      "cell_type": "code",
      "metadata": {
        "id": "vPNF3XKWBz0O",
        "colab_type": "code",
        "colab": {}
      },
      "source": [
        "from kornia.contrib import MaxBlurPool2d"
      ],
      "execution_count": 4,
      "outputs": []
    },
    {
      "cell_type": "code",
      "metadata": {
        "id": "xPGwrk6TBz0U",
        "colab_type": "code",
        "colab": {}
      },
      "source": [
        "from fastai.basic_train import *\n",
        "from fastai.vision import *\n",
        "# from fastai.script import *\n",
        "from model_constructor.net import Net, act_fn\n",
        "from model_constructor.layers import SimpleSelfAttention, ConvLayer"
      ],
      "execution_count": 5,
      "outputs": []
    },
    {
      "cell_type": "markdown",
      "metadata": {
        "id": "-iLuG-qpBz0c",
        "colab_type": "text"
      },
      "source": [
        "# Twist"
      ]
    },
    {
      "cell_type": "code",
      "metadata": {
        "colab_type": "code",
        "id": "uDQr2mVcTZzB",
        "colab": {}
      },
      "source": [
        "class ConvTwist(nn.Module):  # replacing 3x3 Conv2d with in_channels=out_channels\n",
        "    def __init__(self, ni, nf):\n",
        "        super(ConvTwist, self).__init__()\n",
        "        self.twist = True # and n>=128\n",
        "        if self.twist:\n",
        "            self.expansion = 2\n",
        "            ni *= self.expansion\n",
        "            self.conv = nn.Conv2d(ni, ni, kernel_size=3, padding=1, bias=False, groups=ni)\n",
        "            Dx = torch.Tensor([[-1,0,1],[-2,0,2],[-1,0,1]]).view(1,1,3,3)\n",
        "            Dy = torch.Tensor([[1,2,1],[0,0,0],[-1,-2,-1]]).view(1,1,3,3)\n",
        "            self.DD = torch.cat([Dx,Dy]*(ni//2), dim=0)\n",
        "            self.conv1x1 = nn.Conv2d(ni, ni, kernel_size=1, bias=False, groups=1)\n",
        "            self.mask = torch.zeros((ni,ni,1,1))\n",
        "            for i in range(ni//2-1):\n",
        "                self.mask[i*2:i*2+4,i*2:i*2+4] = 1\n",
        "            self.iters = 3 if ni<=256 else 1\n",
        "            self.XY = None\n",
        "        else:\n",
        "            self.conv = nn.Conv2d(ni, ni, kernel_size=3, padding=1, bias=False, groups=1)\n",
        "\n",
        "    def forward(self, x):\n",
        "        N,C,H,W = x.size()\n",
        "        if self.twist:\n",
        "            CC = C*self.expansion\n",
        "            out = x.unsqueeze(2).expand(N,C,CC//C,H,W).reshape(N,CC,H,W)\n",
        "            if self.XY is None:\n",
        "                XX = torch.from_numpy(np.indices((1,1,H,W))[3]*2/W-1)\n",
        "                YY = torch.from_numpy(np.indices((1,1,H,W))[2]*2/H-1)\n",
        "                self.XY = torch.cat([XX,YY]*(CC//2), dim=1).type(x.dtype).to(x.device)\n",
        "                print(self.XY.size())\n",
        "                self.DD = self.DD.to(x.device)\n",
        "                self.mask = self.mask.to(x.device)\n",
        "            pdf = F.relu(out)+0.01\n",
        "            total = pdf.sum((2,3))\n",
        "            XYbar = (self.XY*pdf).sum((2,3))/total\n",
        "            XY = self.XY-XYbar[:,:,None,None]\n",
        "            self.conv1x1.weight.data = self.conv1x1.weight*self.mask\n",
        "            for i in range(self.iters):\n",
        "                # if i>0: double = out.unsqueeze(2).expand(N,C,CC//C,H,W).reshape(N,CC,H,W)\n",
        "                twist = F.conv2d(out, self.DD, padding=1, groups=CC)\n",
        "                twist = self.conv1x1(XY*twist)\n",
        "                out = out + self.conv(out) + twist\n",
        "            out = out.view(N,C,CC//C,H,W).sum(2) - x\n",
        "        else:\n",
        "            out = self.conv(x)\n",
        "        return out"
      ],
      "execution_count": 27,
      "outputs": []
    },
    {
      "cell_type": "code",
      "metadata": {
        "id": "51i_Xqjen7lT",
        "colab_type": "code",
        "colab": {
          "base_uri": "https://localhost:8080/",
          "height": 153
        },
        "outputId": "9df334b0-cc0e-4f66-bed8-7f8fbb04193a"
      },
      "source": [
        "A = torch.arange(12).view(3,4)\n",
        "print(A.size())\n",
        "A.unsqueeze_(1)\n",
        "print(A.size())\n",
        "A = A.expand((3,2,4)).reshape(6,4)\n",
        "print(A)"
      ],
      "execution_count": 7,
      "outputs": [
        {
          "output_type": "stream",
          "text": [
            "torch.Size([3, 4])\n",
            "torch.Size([3, 1, 4])\n",
            "tensor([[ 0,  1,  2,  3],\n",
            "        [ 0,  1,  2,  3],\n",
            "        [ 4,  5,  6,  7],\n",
            "        [ 4,  5,  6,  7],\n",
            "        [ 8,  9, 10, 11],\n",
            "        [ 8,  9, 10, 11]])\n"
          ],
          "name": "stdout"
        }
      ]
    },
    {
      "cell_type": "markdown",
      "metadata": {
        "id": "U63Mcb1lBz0p",
        "colab_type": "text"
      },
      "source": [
        "# ResBlock"
      ]
    },
    {
      "cell_type": "code",
      "metadata": {
        "id": "kY7y9c99Bz0q",
        "colab_type": "code",
        "colab": {}
      },
      "source": [
        "class NewLayer(nn.Sequential):\n",
        "    \"\"\"Basic conv layers block\"\"\"\n",
        "    def __init__(self, ni, nf, ks=3, stride=1,\n",
        "            act=True,  act_fn=nn.ReLU(inplace=True),\n",
        "            bn_layer=True, bn_1st=True, zero_bn=False,\n",
        "            padding=None, bias=False, groups=1, **kwargs):\n",
        "\n",
        "        if padding==None: padding = ks//2\n",
        "        if ks==3:  layers = [('ConvTwist', ConvTwist(ni,nf))]\n",
        "        else: layers = [('Conv{}x{}'.format(ks,ks), \n",
        "                  nn.Conv2d(ni, nf, ks, stride=stride, padding=padding, bias=bias, groups=groups))]\n",
        "\n",
        "        act_bn = [('act_fn', act_fn)] if act else []\n",
        "        if bn_layer:\n",
        "            bn = nn.BatchNorm2d(nf)\n",
        "            nn.init.constant_(bn.weight, 0. if zero_bn else 1.)\n",
        "            act_bn += [('bn', bn)]\n",
        "        if bn_1st: act_bn.reverse()\n",
        "        layers += act_bn\n",
        "        super().__init__(OrderedDict(layers))"
      ],
      "execution_count": 28,
      "outputs": []
    },
    {
      "cell_type": "code",
      "metadata": {
        "id": "nVLFz9nhBz0x",
        "colab_type": "code",
        "colab": {}
      },
      "source": [
        "class NewResBlock(Module):\n",
        "    def __init__(self, expansion, ni, nh, stride=1,\n",
        "                 conv_layer=ConvLayer, act_fn=act_fn, bn_1st=True,\n",
        "                 pool=nn.AvgPool2d(2, ceil_mode=True), sa=False, sym=False, zero_bn=True):\n",
        "        nf,ni = nh*expansion,ni*expansion\n",
        "        conv_layer = NewLayer\n",
        "        self.reduce = noop if stride==1 else pool\n",
        "        layers  = [(f\"conv_0\", conv_layer(ni, nh, 3, act_fn=act_fn, bn_1st=bn_1st)),\n",
        "                   (f\"conv_1\", conv_layer(nh, nf, 3, zero_bn=zero_bn, act=False, bn_1st=bn_1st))\n",
        "        ] if expansion == 1 else [\n",
        "                   (f\"conv_0\", conv_layer(ni, nh, 1, act_fn=act_fn, bn_1st=bn_1st)),\n",
        "                   (f\"conv_1\", conv_layer(nh, nh, 3, act_fn=act_fn, bn_1st=bn_1st)),\n",
        "                   (f\"conv_2\", conv_layer(nh, nf, 1, zero_bn=zero_bn, act=False, bn_1st=bn_1st))\n",
        "        ]\n",
        "        if sa: layers.append(('sa', SimpleSelfAttention(nf,ks=1,sym=sym)))\n",
        "        self.convs = nn.Sequential(OrderedDict(layers))\n",
        "        self.idconv = noop if ni==nf else conv_layer(ni, nf, 1, act=False, bn_1st=bn_1st)\n",
        "        self.merge = act_fn\n",
        "\n",
        "    def forward(self, x):\n",
        "        o = self.reduce(x)\n",
        "        return self.merge(self.convs(o) + self.idconv(o))"
      ],
      "execution_count": 29,
      "outputs": []
    },
    {
      "cell_type": "markdown",
      "metadata": {
        "id": "XroIp4GcBz07",
        "colab_type": "text"
      },
      "source": [
        "# Model Constructor"
      ]
    },
    {
      "cell_type": "code",
      "metadata": {
        "id": "ZTrZVV81Bz1G",
        "colab_type": "code",
        "colab": {}
      },
      "source": [
        "model = Net(c_out=10, layers=[3,6,8,3], expansion=4)\n",
        "model.block = NewResBlock\n",
        "# model.conv_layer = NewLayer # for the stem\n",
        "pool = MaxBlurPool2d(3, True)\n",
        "model.pool = pool\n",
        "model.stem_pool = pool\n",
        "model.stem_sizes = [3,32,64,64]\n",
        "model.act_fn = Mish()\n",
        "model.sa = True\n",
        "res = []"
      ],
      "execution_count": 30,
      "outputs": []
    },
    {
      "cell_type": "markdown",
      "metadata": {
        "id": "8g2J_rBABz13",
        "colab_type": "text"
      },
      "source": [
        "# Runs and results\n",
        "\n"
      ]
    },
    {
      "cell_type": "code",
      "metadata": {
        "id": "-QXtp7Jryx_9",
        "colab_type": "code",
        "colab": {
          "base_uri": "https://localhost:8080/",
          "height": 1000
        },
        "outputId": "d69eda9b-c311-4215-e4b6-27d5d036170d"
      },
      "source": [
        "epochs = [5]*3\n",
        "for e in epochs:\n",
        "    mixup=0 if e<20 else 0.2\n",
        "    learn = get_learn(model=model, size=192, bs=32, mixup=mixup)\n",
        "    learn.fit_fc(e, lr=4e-3, moms=(0.95,0.95), start_pct=0.72)\n",
        "    res += [learn.recorder.metrics[-1][0].item()]\n",
        "print([round(x, 6) for x in res], sum(res)/len(res))"
      ],
      "execution_count": 31,
      "outputs": [
        {
          "output_type": "stream",
          "text": [
            "data path   /root/.fastai/data/imagewoof2\n"
          ],
          "name": "stdout"
        },
        {
          "output_type": "stream",
          "text": [
            "/usr/local/lib/python3.6/dist-packages/torch/nn/functional.py:2854: UserWarning: The default behavior for interpolate/upsample with float scale_factor will change in 1.6.0 to align with other frameworks/libraries, and use scale_factor directly, instead of relying on the computed output size. If you wish to keep the old behavior, please set recompute_scale_factor=True. See the documentation of nn.Upsample for details. \n",
            "  warnings.warn(\"The default behavior for interpolate/upsample with float scale_factor will change \"\n",
            "/usr/local/lib/python3.6/dist-packages/torch/nn/functional.py:2854: UserWarning: The default behavior for interpolate/upsample with float scale_factor will change in 1.6.0 to align with other frameworks/libraries, and use scale_factor directly, instead of relying on the computed output size. If you wish to keep the old behavior, please set recompute_scale_factor=True. See the documentation of nn.Upsample for details. \n",
            "  warnings.warn(\"The default behavior for interpolate/upsample with float scale_factor will change \"\n",
            "/usr/local/lib/python3.6/dist-packages/torch/nn/functional.py:2854: UserWarning: The default behavior for interpolate/upsample with float scale_factor will change in 1.6.0 to align with other frameworks/libraries, and use scale_factor directly, instead of relying on the computed output size. If you wish to keep the old behavior, please set recompute_scale_factor=True. See the documentation of nn.Upsample for details. \n",
            "  warnings.warn(\"The default behavior for interpolate/upsample with float scale_factor will change \"\n",
            "/usr/local/lib/python3.6/dist-packages/torch/nn/functional.py:2854: UserWarning: The default behavior for interpolate/upsample with float scale_factor will change in 1.6.0 to align with other frameworks/libraries, and use scale_factor directly, instead of relying on the computed output size. If you wish to keep the old behavior, please set recompute_scale_factor=True. See the documentation of nn.Upsample for details. \n",
            "  warnings.warn(\"The default behavior for interpolate/upsample with float scale_factor will change \"\n",
            "/usr/local/lib/python3.6/dist-packages/torch/nn/functional.py:2854: UserWarning: The default behavior for interpolate/upsample with float scale_factor will change in 1.6.0 to align with other frameworks/libraries, and use scale_factor directly, instead of relying on the computed output size. If you wish to keep the old behavior, please set recompute_scale_factor=True. See the documentation of nn.Upsample for details. \n",
            "  warnings.warn(\"The default behavior for interpolate/upsample with float scale_factor will change \"\n",
            "/usr/local/lib/python3.6/dist-packages/torch/nn/functional.py:2854: UserWarning: The default behavior for interpolate/upsample with float scale_factor will change in 1.6.0 to align with other frameworks/libraries, and use scale_factor directly, instead of relying on the computed output size. If you wish to keep the old behavior, please set recompute_scale_factor=True. See the documentation of nn.Upsample for details. \n",
            "  warnings.warn(\"The default behavior for interpolate/upsample with float scale_factor will change \"\n",
            "/usr/local/lib/python3.6/dist-packages/torch/nn/functional.py:2854: UserWarning: The default behavior for interpolate/upsample with float scale_factor will change in 1.6.0 to align with other frameworks/libraries, and use scale_factor directly, instead of relying on the computed output size. If you wish to keep the old behavior, please set recompute_scale_factor=True. See the documentation of nn.Upsample for details. \n",
            "  warnings.warn(\"The default behavior for interpolate/upsample with float scale_factor will change \"\n",
            "/usr/local/lib/python3.6/dist-packages/torch/nn/functional.py:2854: UserWarning: The default behavior for interpolate/upsample with float scale_factor will change in 1.6.0 to align with other frameworks/libraries, and use scale_factor directly, instead of relying on the computed output size. If you wish to keep the old behavior, please set recompute_scale_factor=True. See the documentation of nn.Upsample for details. \n",
            "  warnings.warn(\"The default behavior for interpolate/upsample with float scale_factor will change \"\n"
          ],
          "name": "stderr"
        },
        {
          "output_type": "stream",
          "text": [
            "Learn path /root/.fastai/data/imagewoof2\n"
          ],
          "name": "stdout"
        },
        {
          "output_type": "display_data",
          "data": {
            "text/html": [
              "<table border=\"1\" class=\"dataframe\">\n",
              "  <thead>\n",
              "    <tr style=\"text-align: left;\">\n",
              "      <th>epoch</th>\n",
              "      <th>train_loss</th>\n",
              "      <th>valid_loss</th>\n",
              "      <th>accuracy</th>\n",
              "      <th>top_k_accuracy</th>\n",
              "      <th>time</th>\n",
              "    </tr>\n",
              "  </thead>\n",
              "  <tbody>\n",
              "    <tr>\n",
              "      <td>0</td>\n",
              "      <td>1.882015</td>\n",
              "      <td>1.763450</td>\n",
              "      <td>0.442606</td>\n",
              "      <td>0.883176</td>\n",
              "      <td>02:42</td>\n",
              "    </tr>\n",
              "    <tr>\n",
              "      <td>1</td>\n",
              "      <td>1.590647</td>\n",
              "      <td>1.454010</td>\n",
              "      <td>0.583864</td>\n",
              "      <td>0.945279</td>\n",
              "      <td>02:42</td>\n",
              "    </tr>\n",
              "    <tr>\n",
              "      <td>2</td>\n",
              "      <td>1.410272</td>\n",
              "      <td>1.248712</td>\n",
              "      <td>0.697124</td>\n",
              "      <td>0.960041</td>\n",
              "      <td>02:41</td>\n",
              "    </tr>\n",
              "    <tr>\n",
              "      <td>3</td>\n",
              "      <td>1.243004</td>\n",
              "      <td>1.120938</td>\n",
              "      <td>0.758208</td>\n",
              "      <td>0.971749</td>\n",
              "      <td>02:41</td>\n",
              "    </tr>\n",
              "    <tr>\n",
              "      <td>4</td>\n",
              "      <td>1.052929</td>\n",
              "      <td>1.004929</td>\n",
              "      <td>0.808857</td>\n",
              "      <td>0.982693</td>\n",
              "      <td>02:41</td>\n",
              "    </tr>\n",
              "  </tbody>\n",
              "</table>"
            ],
            "text/plain": [
              "<IPython.core.display.HTML object>"
            ]
          },
          "metadata": {
            "tags": []
          }
        },
        {
          "output_type": "stream",
          "text": [
            "/usr/local/lib/python3.6/dist-packages/torch/nn/functional.py:2854: UserWarning: The default behavior for interpolate/upsample with float scale_factor will change in 1.6.0 to align with other frameworks/libraries, and use scale_factor directly, instead of relying on the computed output size. If you wish to keep the old behavior, please set recompute_scale_factor=True. See the documentation of nn.Upsample for details. \n",
            "  warnings.warn(\"The default behavior for interpolate/upsample with float scale_factor will change \"\n"
          ],
          "name": "stderr"
        },
        {
          "output_type": "stream",
          "text": [
            "torch.Size([1, 128, 48, 48])\n",
            "torch.Size([1, 128, 48, 48])\n",
            "torch.Size([1, 128, 48, 48])\n",
            "torch.Size([1, 256, 24, 24])\n",
            "torch.Size([1, 256, 24, 24])\n",
            "torch.Size([1, 256, 24, 24])\n",
            "torch.Size([1, 256, 24, 24])\n",
            "torch.Size([1, 256, 24, 24])\n",
            "torch.Size([1, 256, 24, 24])\n",
            "torch.Size([1, 512, 12, 12])\n",
            "torch.Size([1, 512, 12, 12])\n",
            "torch.Size([1, 512, 12, 12])\n",
            "torch.Size([1, 512, 12, 12])\n",
            "torch.Size([1, 512, 12, 12])\n",
            "torch.Size([1, 512, 12, 12])\n",
            "torch.Size([1, 512, 12, 12])\n",
            "torch.Size([1, 512, 12, 12])\n",
            "torch.Size([1, 1024, 6, 6])\n",
            "torch.Size([1, 1024, 6, 6])\n",
            "torch.Size([1, 1024, 6, 6])\n",
            "data path   /root/.fastai/data/imagewoof2\n"
          ],
          "name": "stdout"
        },
        {
          "output_type": "stream",
          "text": [
            "/usr/local/lib/python3.6/dist-packages/torch/nn/functional.py:2854: UserWarning: The default behavior for interpolate/upsample with float scale_factor will change in 1.6.0 to align with other frameworks/libraries, and use scale_factor directly, instead of relying on the computed output size. If you wish to keep the old behavior, please set recompute_scale_factor=True. See the documentation of nn.Upsample for details. \n",
            "  warnings.warn(\"The default behavior for interpolate/upsample with float scale_factor will change \"\n",
            "/usr/local/lib/python3.6/dist-packages/torch/nn/functional.py:2854: UserWarning: The default behavior for interpolate/upsample with float scale_factor will change in 1.6.0 to align with other frameworks/libraries, and use scale_factor directly, instead of relying on the computed output size. If you wish to keep the old behavior, please set recompute_scale_factor=True. See the documentation of nn.Upsample for details. \n",
            "  warnings.warn(\"The default behavior for interpolate/upsample with float scale_factor will change \"\n",
            "/usr/local/lib/python3.6/dist-packages/torch/nn/functional.py:2854: UserWarning: The default behavior for interpolate/upsample with float scale_factor will change in 1.6.0 to align with other frameworks/libraries, and use scale_factor directly, instead of relying on the computed output size. If you wish to keep the old behavior, please set recompute_scale_factor=True. See the documentation of nn.Upsample for details. \n",
            "  warnings.warn(\"The default behavior for interpolate/upsample with float scale_factor will change \"\n",
            "/usr/local/lib/python3.6/dist-packages/torch/nn/functional.py:2854: UserWarning: The default behavior for interpolate/upsample with float scale_factor will change in 1.6.0 to align with other frameworks/libraries, and use scale_factor directly, instead of relying on the computed output size. If you wish to keep the old behavior, please set recompute_scale_factor=True. See the documentation of nn.Upsample for details. \n",
            "  warnings.warn(\"The default behavior for interpolate/upsample with float scale_factor will change \"\n",
            "/usr/local/lib/python3.6/dist-packages/torch/nn/functional.py:2854: UserWarning: The default behavior for interpolate/upsample with float scale_factor will change in 1.6.0 to align with other frameworks/libraries, and use scale_factor directly, instead of relying on the computed output size. If you wish to keep the old behavior, please set recompute_scale_factor=True. See the documentation of nn.Upsample for details. \n",
            "  warnings.warn(\"The default behavior for interpolate/upsample with float scale_factor will change \"\n",
            "/usr/local/lib/python3.6/dist-packages/torch/nn/functional.py:2854: UserWarning: The default behavior for interpolate/upsample with float scale_factor will change in 1.6.0 to align with other frameworks/libraries, and use scale_factor directly, instead of relying on the computed output size. If you wish to keep the old behavior, please set recompute_scale_factor=True. See the documentation of nn.Upsample for details. \n",
            "  warnings.warn(\"The default behavior for interpolate/upsample with float scale_factor will change \"\n",
            "/usr/local/lib/python3.6/dist-packages/torch/nn/functional.py:2854: UserWarning: The default behavior for interpolate/upsample with float scale_factor will change in 1.6.0 to align with other frameworks/libraries, and use scale_factor directly, instead of relying on the computed output size. If you wish to keep the old behavior, please set recompute_scale_factor=True. See the documentation of nn.Upsample for details. \n",
            "  warnings.warn(\"The default behavior for interpolate/upsample with float scale_factor will change \"\n"
          ],
          "name": "stderr"
        },
        {
          "output_type": "stream",
          "text": [
            "Learn path /root/.fastai/data/imagewoof2\n"
          ],
          "name": "stdout"
        },
        {
          "output_type": "display_data",
          "data": {
            "text/html": [
              "<table border=\"1\" class=\"dataframe\">\n",
              "  <thead>\n",
              "    <tr style=\"text-align: left;\">\n",
              "      <th>epoch</th>\n",
              "      <th>train_loss</th>\n",
              "      <th>valid_loss</th>\n",
              "      <th>accuracy</th>\n",
              "      <th>top_k_accuracy</th>\n",
              "      <th>time</th>\n",
              "    </tr>\n",
              "  </thead>\n",
              "  <tbody>\n",
              "    <tr>\n",
              "      <td>0</td>\n",
              "      <td>1.887704</td>\n",
              "      <td>1.789592</td>\n",
              "      <td>0.422499</td>\n",
              "      <td>0.879868</td>\n",
              "      <td>02:41</td>\n",
              "    </tr>\n",
              "    <tr>\n",
              "      <td>1</td>\n",
              "      <td>1.613290</td>\n",
              "      <td>1.466583</td>\n",
              "      <td>0.575464</td>\n",
              "      <td>0.933062</td>\n",
              "      <td>02:40</td>\n",
              "    </tr>\n",
              "    <tr>\n",
              "      <td>2</td>\n",
              "      <td>1.393785</td>\n",
              "      <td>1.277376</td>\n",
              "      <td>0.669636</td>\n",
              "      <td>0.956986</td>\n",
              "      <td>02:41</td>\n",
              "    </tr>\n",
              "    <tr>\n",
              "      <td>3</td>\n",
              "      <td>1.252182</td>\n",
              "      <td>1.184057</td>\n",
              "      <td>0.720540</td>\n",
              "      <td>0.969203</td>\n",
              "      <td>02:40</td>\n",
              "    </tr>\n",
              "    <tr>\n",
              "      <td>4</td>\n",
              "      <td>1.033952</td>\n",
              "      <td>1.005856</td>\n",
              "      <td>0.801985</td>\n",
              "      <td>0.980148</td>\n",
              "      <td>02:41</td>\n",
              "    </tr>\n",
              "  </tbody>\n",
              "</table>"
            ],
            "text/plain": [
              "<IPython.core.display.HTML object>"
            ]
          },
          "metadata": {
            "tags": []
          }
        },
        {
          "output_type": "stream",
          "text": [
            "/usr/local/lib/python3.6/dist-packages/torch/nn/functional.py:2854: UserWarning: The default behavior for interpolate/upsample with float scale_factor will change in 1.6.0 to align with other frameworks/libraries, and use scale_factor directly, instead of relying on the computed output size. If you wish to keep the old behavior, please set recompute_scale_factor=True. See the documentation of nn.Upsample for details. \n",
            "  warnings.warn(\"The default behavior for interpolate/upsample with float scale_factor will change \"\n"
          ],
          "name": "stderr"
        },
        {
          "output_type": "stream",
          "text": [
            "torch.Size([1, 128, 48, 48])\n",
            "torch.Size([1, 128, 48, 48])\n",
            "torch.Size([1, 128, 48, 48])\n",
            "torch.Size([1, 256, 24, 24])\n",
            "torch.Size([1, 256, 24, 24])\n",
            "torch.Size([1, 256, 24, 24])\n",
            "torch.Size([1, 256, 24, 24])\n",
            "torch.Size([1, 256, 24, 24])\n",
            "torch.Size([1, 256, 24, 24])\n",
            "torch.Size([1, 512, 12, 12])\n",
            "torch.Size([1, 512, 12, 12])\n",
            "torch.Size([1, 512, 12, 12])\n",
            "torch.Size([1, 512, 12, 12])\n",
            "torch.Size([1, 512, 12, 12])\n",
            "torch.Size([1, 512, 12, 12])\n",
            "torch.Size([1, 512, 12, 12])\n",
            "torch.Size([1, 512, 12, 12])\n",
            "torch.Size([1, 1024, 6, 6])\n",
            "torch.Size([1, 1024, 6, 6])\n",
            "torch.Size([1, 1024, 6, 6])\n",
            "data path   /root/.fastai/data/imagewoof2\n"
          ],
          "name": "stdout"
        },
        {
          "output_type": "stream",
          "text": [
            "/usr/local/lib/python3.6/dist-packages/torch/nn/functional.py:2854: UserWarning: The default behavior for interpolate/upsample with float scale_factor will change in 1.6.0 to align with other frameworks/libraries, and use scale_factor directly, instead of relying on the computed output size. If you wish to keep the old behavior, please set recompute_scale_factor=True. See the documentation of nn.Upsample for details. \n",
            "  warnings.warn(\"The default behavior for interpolate/upsample with float scale_factor will change \"\n",
            "/usr/local/lib/python3.6/dist-packages/torch/nn/functional.py:2854: UserWarning: The default behavior for interpolate/upsample with float scale_factor will change in 1.6.0 to align with other frameworks/libraries, and use scale_factor directly, instead of relying on the computed output size. If you wish to keep the old behavior, please set recompute_scale_factor=True. See the documentation of nn.Upsample for details. \n",
            "  warnings.warn(\"The default behavior for interpolate/upsample with float scale_factor will change \"\n",
            "/usr/local/lib/python3.6/dist-packages/torch/nn/functional.py:2854: UserWarning: The default behavior for interpolate/upsample with float scale_factor will change in 1.6.0 to align with other frameworks/libraries, and use scale_factor directly, instead of relying on the computed output size. If you wish to keep the old behavior, please set recompute_scale_factor=True. See the documentation of nn.Upsample for details. \n",
            "  warnings.warn(\"The default behavior for interpolate/upsample with float scale_factor will change \"\n",
            "/usr/local/lib/python3.6/dist-packages/torch/nn/functional.py:2854: UserWarning: The default behavior for interpolate/upsample with float scale_factor will change in 1.6.0 to align with other frameworks/libraries, and use scale_factor directly, instead of relying on the computed output size. If you wish to keep the old behavior, please set recompute_scale_factor=True. See the documentation of nn.Upsample for details. \n",
            "  warnings.warn(\"The default behavior for interpolate/upsample with float scale_factor will change \"\n",
            "/usr/local/lib/python3.6/dist-packages/torch/nn/functional.py:2854: UserWarning: The default behavior for interpolate/upsample with float scale_factor will change in 1.6.0 to align with other frameworks/libraries, and use scale_factor directly, instead of relying on the computed output size. If you wish to keep the old behavior, please set recompute_scale_factor=True. See the documentation of nn.Upsample for details. \n",
            "  warnings.warn(\"The default behavior for interpolate/upsample with float scale_factor will change \"\n",
            "/usr/local/lib/python3.6/dist-packages/torch/nn/functional.py:2854: UserWarning: The default behavior for interpolate/upsample with float scale_factor will change in 1.6.0 to align with other frameworks/libraries, and use scale_factor directly, instead of relying on the computed output size. If you wish to keep the old behavior, please set recompute_scale_factor=True. See the documentation of nn.Upsample for details. \n",
            "  warnings.warn(\"The default behavior for interpolate/upsample with float scale_factor will change \"\n",
            "/usr/local/lib/python3.6/dist-packages/torch/nn/functional.py:2854: UserWarning: The default behavior for interpolate/upsample with float scale_factor will change in 1.6.0 to align with other frameworks/libraries, and use scale_factor directly, instead of relying on the computed output size. If you wish to keep the old behavior, please set recompute_scale_factor=True. See the documentation of nn.Upsample for details. \n",
            "  warnings.warn(\"The default behavior for interpolate/upsample with float scale_factor will change \"\n"
          ],
          "name": "stderr"
        },
        {
          "output_type": "stream",
          "text": [
            "Learn path /root/.fastai/data/imagewoof2\n"
          ],
          "name": "stdout"
        },
        {
          "output_type": "display_data",
          "data": {
            "text/html": [
              "<table border=\"1\" class=\"dataframe\">\n",
              "  <thead>\n",
              "    <tr style=\"text-align: left;\">\n",
              "      <th>epoch</th>\n",
              "      <th>train_loss</th>\n",
              "      <th>valid_loss</th>\n",
              "      <th>accuracy</th>\n",
              "      <th>top_k_accuracy</th>\n",
              "      <th>time</th>\n",
              "    </tr>\n",
              "  </thead>\n",
              "  <tbody>\n",
              "    <tr>\n",
              "      <td>0</td>\n",
              "      <td>1.893568</td>\n",
              "      <td>1.780805</td>\n",
              "      <td>0.420972</td>\n",
              "      <td>0.890048</td>\n",
              "      <td>02:40</td>\n",
              "    </tr>\n",
              "    <tr>\n",
              "      <td>1</td>\n",
              "      <td>1.645878</td>\n",
              "      <td>1.625576</td>\n",
              "      <td>0.511581</td>\n",
              "      <td>0.908628</td>\n",
              "      <td>02:40</td>\n",
              "    </tr>\n",
              "    <tr>\n",
              "      <td>2</td>\n",
              "      <td>1.433666</td>\n",
              "      <td>1.309668</td>\n",
              "      <td>0.653092</td>\n",
              "      <td>0.955968</td>\n",
              "      <td>02:41</td>\n",
              "    </tr>\n",
              "    <tr>\n",
              "      <td>3</td>\n",
              "      <td>1.294554</td>\n",
              "      <td>1.152179</td>\n",
              "      <td>0.741156</td>\n",
              "      <td>0.968694</td>\n",
              "      <td>02:40</td>\n",
              "    </tr>\n",
              "    <tr>\n",
              "      <td>4</td>\n",
              "      <td>1.064995</td>\n",
              "      <td>1.023063</td>\n",
              "      <td>0.800713</td>\n",
              "      <td>0.976839</td>\n",
              "      <td>02:41</td>\n",
              "    </tr>\n",
              "  </tbody>\n",
              "</table>"
            ],
            "text/plain": [
              "<IPython.core.display.HTML object>"
            ]
          },
          "metadata": {
            "tags": []
          }
        },
        {
          "output_type": "stream",
          "text": [
            "/usr/local/lib/python3.6/dist-packages/torch/nn/functional.py:2854: UserWarning: The default behavior for interpolate/upsample with float scale_factor will change in 1.6.0 to align with other frameworks/libraries, and use scale_factor directly, instead of relying on the computed output size. If you wish to keep the old behavior, please set recompute_scale_factor=True. See the documentation of nn.Upsample for details. \n",
            "  warnings.warn(\"The default behavior for interpolate/upsample with float scale_factor will change \"\n"
          ],
          "name": "stderr"
        },
        {
          "output_type": "stream",
          "text": [
            "torch.Size([1, 128, 48, 48])\n",
            "torch.Size([1, 128, 48, 48])\n",
            "torch.Size([1, 128, 48, 48])\n",
            "torch.Size([1, 256, 24, 24])\n",
            "torch.Size([1, 256, 24, 24])\n",
            "torch.Size([1, 256, 24, 24])\n",
            "torch.Size([1, 256, 24, 24])\n",
            "torch.Size([1, 256, 24, 24])\n",
            "torch.Size([1, 256, 24, 24])\n",
            "torch.Size([1, 512, 12, 12])\n",
            "torch.Size([1, 512, 12, 12])\n",
            "torch.Size([1, 512, 12, 12])\n",
            "torch.Size([1, 512, 12, 12])\n",
            "torch.Size([1, 512, 12, 12])\n",
            "torch.Size([1, 512, 12, 12])\n",
            "torch.Size([1, 512, 12, 12])\n",
            "torch.Size([1, 512, 12, 12])\n",
            "torch.Size([1, 1024, 6, 6])\n",
            "torch.Size([1, 1024, 6, 6])\n",
            "torch.Size([1, 1024, 6, 6])\n",
            "[0.808857, 0.801985, 0.800713] 0.8038517038027445\n"
          ],
          "name": "stdout"
        }
      ]
    },
    {
      "cell_type": "markdown",
      "metadata": {
        "id": "8EZg0C8yyxVu",
        "colab_type": "text"
      },
      "source": [
        "conv: 1-to-1, conv1x1: fully\n",
        "\n",
        "in 5, 20, and 80 epochs:\n",
        "`0.785442, 0.882922, 0.901502`\n",
        "(2.06 min per epoch)\n",
        "\n",
        "conv: fully, conv1x1: fully\n",
        "\n",
        "in 5, 20, and 80 epochs: `0.781878, 0.882922, 0.895393`\n",
        "(2.06 min per epoch)\n",
        "\n",
        "conv: fully, conv1x1: 2-to-2\n",
        "\n",
        "in 5, 20, and 80 epochs:\n",
        "(2.06 min per epoch)\n",
        "\n"
      ]
    },
    {
      "cell_type": "code",
      "metadata": {
        "id": "H83lwi2RTFR_",
        "colab_type": "code",
        "colab": {
          "base_uri": "https://localhost:8080/",
          "height": 1000
        },
        "outputId": "7921bfad-8cd0-4ec2-c68b-baf53ec576e7"
      },
      "source": [
        "for i in range(80):\n",
        "    print('epoch {} {}'.format(i, learn.recorder.metrics[i][0].item()))"
      ],
      "execution_count": null,
      "outputs": [
        {
          "output_type": "stream",
          "text": [
            "epoch 0 0.4319165050983429\n",
            "epoch 1 0.5347416400909424\n",
            "epoch 2 0.620768666267395\n",
            "epoch 3 0.6877067685127258\n",
            "epoch 4 0.7164673209190369\n",
            "epoch 5 0.7439551949501038\n",
            "epoch 6 0.7755153775215149\n",
            "epoch 7 0.7767879962921143\n",
            "epoch 8 0.8055484890937805\n",
            "epoch 9 0.7940952181816101\n",
            "epoch 10 0.8088572025299072\n",
            "epoch 11 0.8136930465698242\n",
            "epoch 12 0.8114023804664612\n",
            "epoch 13 0.8294731378555298\n",
            "epoch 14 0.8266734480857849\n",
            "epoch 15 0.8406718969345093\n",
            "epoch 16 0.8271824717521667\n",
            "epoch 17 0.8304912447929382\n",
            "epoch 18 0.8539068698883057\n",
            "epoch 19 0.8437261581420898\n",
            "epoch 20 0.8554339408874512\n",
            "epoch 21 0.8569610714912415\n",
            "epoch 22 0.8490710258483887\n",
            "epoch 23 0.8485620021820068\n",
            "epoch 24 0.8523797392845154\n",
            "epoch 25 0.8620514273643494\n",
            "epoch 26 0.8447442054748535\n",
            "epoch 27 0.8493255376815796\n",
            "epoch 28 0.8617969155311584\n",
            "epoch 29 0.8513616919517517\n",
            "epoch 30 0.8689233660697937\n",
            "epoch 31 0.8617969155311584\n",
            "epoch 32 0.855942964553833\n",
            "epoch 33 0.86790531873703\n",
            "epoch 34 0.8712140321731567\n",
            "epoch 35 0.8648511171340942\n",
            "epoch 36 0.8511071801185608\n",
            "epoch 37 0.8719776272773743\n",
            "epoch 38 0.86790531873703\n",
            "epoch 39 0.8717230558395386\n",
            "epoch 40 0.8661236763000488\n",
            "epoch 41 0.868159830570221\n",
            "epoch 42 0.8668872714042664\n",
            "epoch 43 0.865614652633667\n",
            "epoch 44 0.8569610714912415\n",
            "epoch 45 0.8732501864433289\n",
            "epoch 46 0.8640875816345215\n",
            "epoch 47 0.8666327595710754\n",
            "epoch 48 0.865614652633667\n",
            "epoch 49 0.870450496673584\n",
            "epoch 50 0.8668872714042664\n",
            "epoch 51 0.8666327595710754\n",
            "epoch 52 0.8579791188240051\n",
            "epoch 53 0.8696869611740112\n",
            "epoch 54 0.8569610714912415\n",
            "epoch 55 0.8595062494277954\n",
            "epoch 56 0.8666327595710754\n",
            "epoch 57 0.8653601408004761\n",
            "epoch 58 0.8773224949836731\n",
            "epoch 59 0.8747773170471191\n",
            "epoch 60 0.863323986530304\n",
            "epoch 61 0.8755408525466919\n",
            "epoch 62 0.8783405423164368\n",
            "epoch 63 0.8841944336891174\n",
            "epoch 64 0.8816492557525635\n",
            "epoch 65 0.8768134117126465\n",
            "epoch 66 0.8821583390235901\n",
            "epoch 67 0.8819037675857544\n",
            "epoch 68 0.8826673626899719\n",
            "epoch 69 0.8867396116256714\n",
            "epoch 70 0.8897938132286072\n",
            "epoch 71 0.8923389911651611\n",
            "epoch 72 0.8925935626029968\n",
            "epoch 73 0.8936116099357605\n",
            "epoch 74 0.8979384303092957\n",
            "epoch 75 0.8989564776420593\n",
            "epoch 76 0.8987019658088684\n",
            "epoch 77 0.8984474539756775\n",
            "epoch 78 0.899974524974823\n",
            "epoch 79 0.9015016555786133\n"
          ],
          "name": "stdout"
        }
      ]
    },
    {
      "cell_type": "code",
      "metadata": {
        "id": "Kiu-JMUDmlth",
        "colab_type": "code",
        "colab": {
          "base_uri": "https://localhost:8080/",
          "height": 1000
        },
        "outputId": "eacbea52-3bf0-4b79-9a9a-c2d9d5ee330a"
      },
      "source": [
        "for i in range(80):\n",
        "    print('epoch {} {}'.format(i, learn.recorder.metrics[i][0].item()))"
      ],
      "execution_count": null,
      "outputs": [
        {
          "output_type": "stream",
          "text": [
            "epoch 0 0.39373886585235596\n",
            "epoch 1 0.5291422605514526\n",
            "epoch 2 0.6054975986480713\n",
            "epoch 3 0.6536014080047607\n",
            "epoch 4 0.6759989857673645\n",
            "epoch 5 0.7179943919181824\n",
            "epoch 6 0.7459913492202759\n",
            "epoch 7 0.7755153775215149\n",
            "epoch 8 0.7806057333946228\n",
            "epoch 9 0.8131840229034424\n",
            "epoch 10 0.814202070236206\n",
            "epoch 11 0.8157292008399963\n",
            "epoch 12 0.8022397756576538\n",
            "epoch 13 0.8228557109832764\n",
            "epoch 14 0.8256554007530212\n",
            "epoch 15 0.8416900038719177\n",
            "epoch 16 0.8315092921257019\n",
            "epoch 17 0.8355816006660461\n",
            "epoch 18 0.8437261581420898\n",
            "epoch 19 0.8378722071647644\n",
            "epoch 20 0.8460168242454529\n",
            "epoch 21 0.8393993377685547\n",
            "epoch 22 0.8513616919517517\n",
            "epoch 23 0.8485620021820068\n",
            "epoch 24 0.8480529189109802\n",
            "epoch 25 0.8567065596580505\n",
            "epoch 26 0.8511071801185608\n",
            "epoch 27 0.8556884527206421\n",
            "epoch 28 0.8498345613479614\n",
            "epoch 29 0.853397786617279\n",
            "epoch 30 0.8612878322601318\n",
            "epoch 31 0.8569610714912415\n",
            "epoch 32 0.8605242967605591\n",
            "epoch 33 0.8615424036979675\n",
            "epoch 34 0.8518707156181335\n",
            "epoch 35 0.858488142490387\n",
            "epoch 36 0.855942964553833\n",
            "epoch 37 0.8645966053009033\n",
            "epoch 38 0.8651056289672852\n",
            "epoch 39 0.8645966053009033\n",
            "epoch 40 0.8640875816345215\n",
            "epoch 41 0.8617969155311584\n",
            "epoch 42 0.8541613817214966\n",
            "epoch 43 0.8620514273643494\n",
            "epoch 44 0.8645966053009033\n",
            "epoch 45 0.8648511171340942\n",
            "epoch 46 0.8617969155311584\n",
            "epoch 47 0.8661236763000488\n",
            "epoch 48 0.8671417832374573\n",
            "epoch 49 0.8623059391975403\n",
            "epoch 50 0.8597607612609863\n",
            "epoch 51 0.8722321391105652\n",
            "epoch 52 0.8645966053009033\n",
            "epoch 53 0.8696869611740112\n",
            "epoch 54 0.8714685440063477\n",
            "epoch 55 0.868159830570221\n",
            "epoch 56 0.8620514273643494\n",
            "epoch 57 0.8691779375076294\n",
            "epoch 58 0.8742682337760925\n",
            "epoch 59 0.8645966053009033\n",
            "epoch 60 0.865614652633667\n",
            "epoch 61 0.8740137219429016\n",
            "epoch 62 0.8750318288803101\n",
            "epoch 63 0.8691779375076294\n",
            "epoch 64 0.877577006816864\n",
            "epoch 65 0.8737592101097107\n",
            "epoch 66 0.8760498762130737\n",
            "epoch 67 0.8793585896492004\n",
            "epoch 68 0.8816492557525635\n",
            "epoch 69 0.8765588998794556\n",
            "epoch 70 0.8819037675857544\n",
            "epoch 71 0.8834308981895447\n",
            "epoch 72 0.8910664319992065\n",
            "epoch 73 0.8951387405395508\n",
            "epoch 74 0.8915754556655884\n",
            "epoch 75 0.8948841691017151\n",
            "epoch 76 0.8933570981025696\n",
            "epoch 77 0.8964112997055054\n",
            "epoch 78 0.897429347038269\n",
            "epoch 79 0.8953932523727417\n"
          ],
          "name": "stdout"
        }
      ]
    },
    {
      "cell_type": "code",
      "metadata": {
        "id": "uXweLcylmmvM",
        "colab_type": "code",
        "colab": {}
      },
      "source": [
        ""
      ],
      "execution_count": null,
      "outputs": []
    }
  ]
}